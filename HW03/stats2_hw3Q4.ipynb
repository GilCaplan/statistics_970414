{
  "nbformat": 4,
  "nbformat_minor": 0,
  "metadata": {
    "colab": {
      "provenance": []
    },
    "kernelspec": {
      "name": "python3",
      "display_name": "Python 3"
    },
    "language_info": {
      "name": "python"
    }
  },
  "cells": [
    {
      "cell_type": "code",
      "source": [
        "import pandas as pd\n",
        "from sklearn.linear_model import LinearRegression\n",
        "from sklearn.metrics import mean_squared_error, r2_score\n",
        "import numpy as np\n",
        "from scipy.stats import f\n",
        "from scipy.stats import norm\n",
        "import pandas as pd\n",
        "import matplotlib.pyplot as plt\n",
        "import seaborn as sns"
      ],
      "metadata": {
        "id": "Fr0suUfvKkar"
      },
      "execution_count": 57,
      "outputs": []
    },
    {
      "cell_type": "code",
      "execution_count": 37,
      "metadata": {
        "id": "0gcJVLAwI8Pt",
        "colab": {
          "base_uri": "https://localhost:8080/"
        },
        "outputId": "c69258de-902e-49a4-bc20-e0cd0b609b79"
      },
      "outputs": [
        {
          "output_type": "stream",
          "name": "stdout",
          "text": [
            "Model: y = 7.457806591400103 + -0.029702795413103587*x2 + 0.5205100837280618*x3 + -0.10180237857061875*x4 + -2.160580699394822*x5\n"
          ]
        }
      ],
      "source": [
        "data = pd.read_csv('ex3.csv')  # Update with your file path\n",
        "X = data[['x2', 'x3', 'x4', 'x5']]\n",
        "y = data['y']\n",
        "\n",
        "model = LinearRegression()\n",
        "model.fit(X, y)\n",
        "\n",
        "intercept = model.intercept_\n",
        "coefficients = model.coef_\n",
        "\n",
        "print(f\"Model: y = {intercept} + {coefficients[0]}*x2 + {coefficients[1]}*x3 + {coefficients[2]}*x4 + {coefficients[3]}*x5\")\n"
      ]
    },
    {
      "cell_type": "code",
      "source": [
        "y_pred = model.predict(X)\n",
        "\n",
        "residuals = y - y_pred\n",
        "\n",
        "noise_variance = np.var(residuals)\n",
        "print(f\"Nonbiased estimator for noise variance: {noise_variance}\")\n"
      ],
      "metadata": {
        "colab": {
          "base_uri": "https://localhost:8080/"
        },
        "id": "E6UOk6b4W-BD",
        "outputId": "85db708f-64c0-462e-d64c-fd44ea50fb10"
      },
      "execution_count": 18,
      "outputs": [
        {
          "output_type": "stream",
          "name": "stdout",
          "text": [
            "Nonbiased estimator for noise variance: 0.5741650999368751\n"
          ]
        }
      ]
    },
    {
      "cell_type": "code",
      "source": [
        "y_mean = np.mean(y)\n",
        "ss_total = np.sum((y - y_mean) ** 2)\n",
        "ss_regression = np.sum((y_pred - y_mean) ** 2)\n",
        "ss_residual = np.sum((y - y_pred) ** 2)\n",
        "\n",
        "n = len(y)\n",
        "p = X.shape[1]\n",
        "df_model = p\n",
        "df_residual = n - p - 1\n",
        "df_total = n - 1\n",
        "\n",
        "ms_regression = ss_regression / df_model\n",
        "ms_residual = ss_residual / df_residual\n",
        "\n",
        "f_stat = ms_regression / ms_residual\n",
        "\n",
        "table_data = {\n",
        "    'Source': ['Regression', 'Residuals', 'Total'],\n",
        "    'Sum of Squares': [ss_regression, ss_residual, ss_total],\n",
        "    'df': [df_model, df_residual, df_total],\n",
        "    'MS': [ms_regression, ms_residual, None],\n",
        "    'F': [f_stat, None, None]\n",
        "}\n",
        "\n",
        "results_df = pd.DataFrame(table_data)\n",
        "print(results_df)\n"
      ],
      "metadata": {
        "colab": {
          "base_uri": "https://localhost:8080/"
        },
        "id": "urRdTHMMW06s",
        "outputId": "1c53fb3d-a867-434a-af24-e81a5c3d4f81"
      },
      "execution_count": 19,
      "outputs": [
        {
          "output_type": "stream",
          "name": "stdout",
          "text": [
            "       Source  Sum of Squares  df        MS         F\n",
            "0  Regression       22.311916   4  5.577979  7.158376\n",
            "1   Residuals       10.909137  14  0.779224       NaN\n",
            "2       Total       33.221053  18       NaN       NaN\n"
          ]
        }
      ]
    },
    {
      "cell_type": "code",
      "source": [
        "X_new = np.array([20, 30, 90, 2]).reshape(1, -1)\n",
        "X_new_df = pd.DataFrame(X_new, columns=['x2', 'x3', 'x4', 'x5'])\n",
        "y_new = model.predict(X_new_df)[0]\n",
        "\n",
        "print(f\"D: {y_new}\")"
      ],
      "metadata": {
        "colab": {
          "base_uri": "https://localhost:8080/"
        },
        "id": "QsNsu2_GYM5S",
        "outputId": "067873e3-888b-4ab5-e919-67305fa85cf2"
      },
      "execution_count": 35,
      "outputs": [
        {
          "output_type": "stream",
          "name": "stdout",
          "text": [
            "D: 8.995677724834556\n"
          ]
        }
      ]
    },
    {
      "cell_type": "code",
      "source": [
        "X_with_intercept = np.hstack([np.ones((X.shape[0], 1)), X.to_numpy()])  # Ensure X is a NumPy array\n",
        "X_transpose_X_inv = np.linalg.inv(X_with_intercept.T @ X_with_intercept)\n",
        "\n",
        "X_new_with_intercept = np.hstack([np.array([[1]]), X_new])\n",
        "\n",
        "var_y_new = noise_variance * (X_new_with_intercept @ X_transpose_X_inv @ X_new_with_intercept.T)\n",
        "se_y_new = np.sqrt(var_y_new[0][0])\n",
        "\n",
        "z = norm.ppf(0.975)\n",
        "lower_bound = y_new - z * se_y_new\n",
        "upper_bound = y_new + z * se_y_new\n",
        "\n",
        "print(f\"Q4E: for expectation CI, 95% Confidence Interval for Y_new: ({lower_bound:.2f}, {upper_bound:.2f})\")"
      ],
      "metadata": {
        "colab": {
          "base_uri": "https://localhost:8080/"
        },
        "id": "RLRyuKSjav_z",
        "outputId": "34617067-c99f-4929-a4f5-e7d4d9b84772"
      },
      "execution_count": 47,
      "outputs": [
        {
          "output_type": "stream",
          "name": "stdout",
          "text": [
            "Q4E: for expectation CI, 95% Confidence Interval for Y_new: (8.20, 9.79)\n"
          ]
        }
      ]
    },
    {
      "cell_type": "code",
      "source": [
        "var_y_new_expectation = noise_variance * (X_new_with_intercept @ X_transpose_X_inv @ X_new_with_intercept.T)\n",
        "var_y_new_prediction = noise_variance + var_y_new_expectation  # Include residual variance\n",
        "se_y_new_prediction = np.sqrt(var_y_new_prediction[0][0])  # Extract scalar value\n",
        "\n",
        "lower_bound = y_new - z * se_y_new_prediction\n",
        "upper_bound = y_new + z * se_y_new_prediction\n",
        "\n",
        "print(f\"Q4F: Prediction Interval: [{lower_bound:.2f}, {upper_bound:.2f}]\")\n"
      ],
      "metadata": {
        "colab": {
          "base_uri": "https://localhost:8080/"
        },
        "id": "MD5XivIScWWN",
        "outputId": "8fbca1d7-73f4-4ea3-f14c-15bd87dd25d0"
      },
      "execution_count": 55,
      "outputs": [
        {
          "output_type": "stream",
          "name": "stdout",
          "text": [
            "Q4F: Prediction Interval: [7.31, 10.68]\n"
          ]
        }
      ]
    },
    {
      "cell_type": "code",
      "source": [
        "# checking Linearity:\n",
        "plt.figure(figsize=(10, 6))\n",
        "sns.residplot(x=y_pred, y=residuals, lowess=True, line_kws={'color': 'red', 'lw': 1})\n",
        "plt.xlabel(\"Predicted values\")\n",
        "plt.ylabel(\"Residuals\")\n",
        "plt.title(\"Residual Plot\")\n",
        "plt.show()\n"
      ],
      "metadata": {
        "colab": {
          "base_uri": "https://localhost:8080/",
          "height": 558
        },
        "id": "-Z75OjANdhT4",
        "outputId": "bb2c39b2-7833-4922-9a7c-ec99b1be2687"
      },
      "execution_count": 58,
      "outputs": [
        {
          "output_type": "display_data",
          "data": {
            "text/plain": [
              "<Figure size 1000x600 with 1 Axes>"
            ],
            "image/png": "[encoded data removed]"
          },
          "metadata": {}
        }
      ]
    },
    {
      "cell_type": "markdown",
      "source": [
        "**Residual analysis:** It seems that there is a curve showing a trend. Therefore,  the linearity assumption doesn't neccessarily hold."
      ],
      "metadata": {
        "id": "1pFOEx7Gecm2"
      }
    }
  ]
}