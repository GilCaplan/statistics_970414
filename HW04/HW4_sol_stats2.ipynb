{
  "nbformat": 4,
  "nbformat_minor": 0,
  "metadata": {
    "colab": {
      "provenance": []
    },
    "kernelspec": {
      "name": "python3",
      "display_name": "Python 3"
    },
    "language_info": {
      "name": "python"
    }
  },
  "cells": [
    {
      "cell_type": "code",
      "source": [
        "import pandas as pd\n",
        "import numpy as np\n",
        "import matplotlib.pyplot as plt\n",
        "import seaborn as sns\n",
        "from statsmodels.genmod.generalized_linear_model import GLM\n",
        "import statsmodels.api as sm\n",
        "import itertools\n",
        "from scipy.stats import chi2"
      ],
      "metadata": {
        "id": "DFlr-ZU6znd6"
      },
      "execution_count": 1,
      "outputs": []
    },
    {
      "cell_type": "code",
      "source": [
        "data = pd.read_csv('mine_fracture.csv')\n",
        "Y = np.array(data['y'])\n",
        "X = [np.array(data[f'x{i}']) for i in range(1, 5)]\n",
        "X1, X2, X3, X4 = X\n",
        "X_combined = [X1, X2, X3, X4]"
      ],
      "metadata": {
        "id": "600heb9ZxrSa"
      },
      "execution_count": 2,
      "outputs": []
    },
    {
      "cell_type": "markdown",
      "source": [
        "Poison regression model:\n",
        "$$\\forall i \\in [4]/\\{0\\} : E(Y_i|X_i) = e^{X_i^T \\cdot \\beta_0}$$\n",
        "$$\\implies E(Y|X) = e^{X^T \\cdot \\beta_0}$$ where $$\\beta_0$$ is the paramater that the GLM model calculates"
      ],
      "metadata": {
        "id": "mVkANMAR0pJm"
      }
    },
    {
      "cell_type": "code",
      "source": [
        "X_combined = np.column_stack((X1, X2, X3, X4))\n",
        "X_combined = sm.add_constant(X_combined)  # Add intercept\n",
        "\n",
        "# Fit the Poisson regression model\n",
        "model_A = GLM(Y, X_combined, family=sm.families.Poisson()).fit()\n",
        "print(len(model_A.params), model_A.params)\n",
        "print(model_A.summary())"
      ],
      "metadata": {
        "colab": {
          "base_uri": "https://localhost:8080/"
        },
        "id": "ZYfcYARMyZfW",
        "outputId": "90df7e63-28cd-45b1-9abb-0b5bfb63497c"
      },
      "execution_count": 11,
      "outputs": [
        {
          "output_type": "stream",
          "name": "stdout",
          "text": [
            "-67.06383637505789\n",
            "5 [-3.59308958e+00 -1.40658814e-03  6.23457605e-02 -2.08034186e-03\n",
            " -3.08134926e-02]\n",
            "                 Generalized Linear Model Regression Results                  \n",
            "==============================================================================\n",
            "Dep. Variable:                      y   No. Observations:                   44\n",
            "Model:                            GLM   Df Residuals:                       39\n",
            "Model Family:                 Poisson   Df Model:                            4\n",
            "Link Function:                    Log   Scale:                          1.0000\n",
            "Method:                          IRLS   Log-Likelihood:                -67.064\n",
            "Date:                Thu, 26 Dec 2024   Deviance:                       37.856\n",
            "Time:                        12:05:05   Pearson chi2:                     35.9\n",
            "No. Iterations:                     5   Pseudo R-squ. (CS):             0.5699\n",
            "Covariance Type:            nonrobust                                         \n",
            "==============================================================================\n",
            "                 coef    std err          z      P>|z|      [0.025      0.975]\n",
            "------------------------------------------------------------------------------\n",
            "const         -3.5931      1.026     -3.503      0.000      -5.603      -1.583\n",
            "x1            -0.0014      0.001     -1.683      0.092      -0.003       0.000\n",
            "x2             0.0623      0.012      5.074      0.000       0.038       0.086\n",
            "x3            -0.0021      0.005     -0.411      0.681      -0.012       0.008\n",
            "x4            -0.0308      0.016     -1.894      0.058      -0.063       0.001\n",
            "==============================================================================\n"
          ]
        }
      ]
    },
    {
      "cell_type": "code",
      "source": [
        "beta_3 = model_A.params[2]\n",
        "change_factor = np.exp(beta_3)\n",
        "print(f\"Multiplicative change in the expectation of Y for a one-unit increase in X3: {change_factor}\")\n"
      ],
      "metadata": {
        "colab": {
          "base_uri": "https://localhost:8080/"
        },
        "id": "OLzkWWKj4tBT",
        "outputId": "fd73b371-cc1f-4e61-d076-9642db763c3a"
      },
      "execution_count": 4,
      "outputs": [
        {
          "output_type": "stream",
          "name": "stdout",
          "text": [
            "Multiplicative change in the expectation of Y for a one-unit increase in X3: 1.0643302844937554\n"
          ]
        }
      ]
    },
    {
      "cell_type": "code",
      "source": [
        "X_dict = {\"X1\": X1,\"X2\": X2,\"X3\": X3,\"X4\": X4}\n",
        "\n",
        "assert len(Y) == len(X1) == len(X2) == len(X3) == len(X4), \"Mismatch in length between Y and X variables\"\n",
        "\n",
        "pairs = list(itertools.combinations(X_dict.items(), 2))\n",
        "\n",
        "best_aic = float('inf')\n",
        "best_pair = None\n",
        "best_model = None\n",
        "\n",
        "for pair in pairs:\n",
        "    (name1, X1_array), (name2, X2_array) = pair\n",
        "    X_pair = np.column_stack((X1_array, X2_array))\n",
        "    X_pair = sm.add_constant(X_pair)\n",
        "    model = sm.GLM(Y, X_pair, family=sm.families.Poisson()).fit()\n",
        "    aic_score = model.aic\n",
        "    if aic_score < best_aic:\n",
        "        best_aic = aic_score\n",
        "        best_pair = (name1, name2)\n",
        "        best_model = model\n",
        "print(\"Best model for D:\")\n",
        "print(f\"Best pair of variables: {best_pair}\")\n",
        "print(f\"Best AIC score: {best_aic}\")\n",
        "print(best_model.summary())\n",
        "print(len(best_model.params))\n"
      ],
      "metadata": {
        "colab": {
          "base_uri": "https://localhost:8080/"
        },
        "id": "hG8hoPlS6dUR",
        "outputId": "9aed72d3-2327-48ca-b631-ce70c3b0f981"
      },
      "execution_count": 5,
      "outputs": [
        {
          "output_type": "stream",
          "name": "stdout",
          "text": [
            "Best model for D:\n",
            "Best pair of variables: ('X2', 'X4')\n",
            "Best AIC score: 143.8977622958081\n",
            "                 Generalized Linear Model Regression Results                  \n",
            "==============================================================================\n",
            "Dep. Variable:                      y   No. Observations:                   44\n",
            "Model:                            GLM   Df Residuals:                       41\n",
            "Model Family:                 Poisson   Df Model:                            2\n",
            "Link Function:                    Log   Scale:                          1.0000\n",
            "Method:                          IRLS   Log-Likelihood:                -68.949\n",
            "Date:                Thu, 26 Dec 2024   Deviance:                       41.626\n",
            "Time:                        12:02:07   Pearson chi2:                     40.7\n",
            "No. Iterations:                     5   Pseudo R-squ. (CS):             0.5315\n",
            "Covariance Type:            nonrobust                                         \n",
            "==============================================================================\n",
            "                 coef    std err          z      P>|z|      [0.025      0.975]\n",
            "------------------------------------------------------------------------------\n",
            "const         -3.5894      0.945     -3.799      0.000      -5.441      -1.738\n",
            "x1             0.0587      0.012      5.027      0.000       0.036       0.082\n",
            "x2            -0.0380      0.015     -2.460      0.014      -0.068      -0.008\n",
            "==============================================================================\n",
            "3\n"
          ]
        }
      ]
    },
    {
      "cell_type": "code",
      "source": [
        "params_model1 = len(model_A.params)\n",
        "params_model2 = len(best_model.params)\n",
        "print(f\"Number of parameters in model1: {params_model1}\")\n",
        "print(f\"Number of parameters in model2: {params_model2}\")"
      ],
      "metadata": {
        "colab": {
          "base_uri": "https://localhost:8080/"
        },
        "id": "g7IAlB04_dWw",
        "outputId": "5b421ab7-9935-4d0d-bdaa-c23f02ee16d8"
      },
      "execution_count": 7,
      "outputs": [
        {
          "output_type": "stream",
          "name": "stdout",
          "text": [
            "Number of parameters in model1: 5\n",
            "Number of parameters in model2: 3\n"
          ]
        }
      ]
    },
    {
      "cell_type": "code",
      "source": [
        "log_likelihood_model1 = best_model.llf  # Log-likelihood for simpler model\n",
        "log_likelihood_model2 = model_A.llf  # Log-likelihood for more complex model\n",
        "print(f\"Log-likelihood for model1: {log_likelihood_model1}\")\n",
        "print(f\"Log-likelihood for model2: {log_likelihood_model2}\")\n",
        "lr_statistic = -2 * (log_likelihood_model1 - log_likelihood_model2)\n",
        "\n",
        "df_diff = params_model1 - params_model2\n",
        "\n",
        "p_value = chi2.sf(lr_statistic, df_diff)\n",
        "\n",
        "print(f\"Likelihood Ratio Test Statistic: {lr_statistic}\")\n",
        "print(f\"Degrees of Freedom: {df_diff}\")\n",
        "print(f\"P-value: {p_value}\")\n",
        "\n",
        "if p_value < 0.05:\n",
        "    print(\"Model A is better.\")\n",
        "else:\n",
        "    print(\"Reduced model performs as well as Model A, therefore, model D is good\")"
      ],
      "metadata": {
        "colab": {
          "base_uri": "https://localhost:8080/"
        },
        "id": "0JPs3znZ-MX0",
        "outputId": "6a54fbb4-7a38-4112-f8b7-71ad3f342275"
      },
      "execution_count": 15,
      "outputs": [
        {
          "output_type": "stream",
          "name": "stdout",
          "text": [
            "Log-likelihood for model1: -68.94888114790405\n",
            "Log-likelihood for model2: -67.06383637505789\n",
            "Likelihood Ratio Test Statistic: 3.770089545692315\n",
            "Degrees of Freedom: 2\n",
            "P-value: 0.15182226176248714\n",
            "Reduced model performs as well as Model A, therefore, model D is good\n"
          ]
        }
      ]
    },
    {
      "cell_type": "code",
      "source": [
        "print('Checking which model is better with BIC')\n",
        "print(f\"BIC for model from A: {model_A.bic}\")\n",
        "print(f\"BIC for model from choosing two X: {best_model.bic}\")\n",
        "\n",
        "if model_A.bic < best_model.bic:\n",
        "    print(\"model A is better (lower BIC).\")\n",
        "else:\n",
        "    print(\"Reduced model is better (lower BIC).\")"
      ],
      "metadata": {
        "colab": {
          "base_uri": "https://localhost:8080/"
        },
        "id": "DDYYk3Tb85om",
        "outputId": "92beb87e-d42a-40d1-9457-157b17d3a337"
      },
      "execution_count": 18,
      "outputs": [
        {
          "output_type": "stream",
          "name": "stdout",
          "text": [
            "Checking which model is better with BIC\n",
            "BIC for model from A: -109.72737135082559\n",
            "BIC for model from choosing two X: -113.52566107296977\n",
            "Reduced model is better (lower BIC).\n"
          ]
        }
      ]
    }
  ]
}