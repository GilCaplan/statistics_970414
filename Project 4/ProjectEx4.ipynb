{
  "nbformat": 4,
  "nbformat_minor": 0,
  "metadata": {
    "colab": {
      "provenance": []
    },
    "kernelspec": {
      "name": "python3",
      "display_name": "Python 3"
    },
    "language_info": {
      "name": "python"
    }
  },
  "cells": [
    {
      "cell_type": "code",
      "execution_count": null,
      "metadata": {
        "id": "uYch9kgtw-dI"
      },
      "outputs": [],
      "source": [
        "import pandas as pd\n",
        "import numpy as np\n",
        "import matplotlib.pyplot as plt\n",
        "import seaborn as sns\n",
        "import scipy.stats as stats\n",
        "from sklearn.linear_model import LinearRegression\n",
        "from sklearn.linear_model import LogisticRegression\n",
        "from sklearn.model_selection import train_test_split\n",
        "from sklearn.metrics import mean_squared_error, r2_score, mean_absolute_error\n",
        "import statsmodels.api as sm\n",
        "from sklearn.preprocessing import LabelEncoder, OneHotEncoder\n",
        "from scipy.stats import norm"
      ]
    },
    {
      "cell_type": "code",
      "source": [
        "hotel_data = pd.read_csv('hotel_bookings.csv').sample(n=5000, random_state=42)\n",
        "hotel_data.head(5)"
      ],
      "metadata": {
        "colab": {
          "base_uri": "https://localhost:8080/",
          "height": 342
        },
        "id": "NqJdG12hxSC5",
        "outputId": "ec197d31-3133-41e6-cb39-37f157c72cf6"
      },
      "execution_count": null,
      "outputs": [
        {
          "output_type": "execute_result",
          "data": {
            "text/plain": [
              "               hotel  is_canceled  lead_time  arrival_date_year  \\\n",
              "30946   Resort Hotel            0        203               2016   \n",
              "40207     City Hotel            1         82               2015   \n",
              "103708    City Hotel            0         25               2016   \n",
              "85144     City Hotel            0          1               2016   \n",
              "109991    City Hotel            0         70               2017   \n",
              "\n",
              "       arrival_date_month  arrival_date_week_number  \\\n",
              "30946            December                        49   \n",
              "40207                July                        29   \n",
              "103708           December                        53   \n",
              "85144               March                        11   \n",
              "109991              April                        16   \n",
              "\n",
              "        arrival_date_day_of_month  stays_in_weekend_nights  \\\n",
              "30946                           2                        2   \n",
              "40207                          16                        0   \n",
              "103708                         27                        0   \n",
              "85144                           9                        0   \n",
              "109991                         16                        2   \n",
              "\n",
              "        stays_in_week_nights  adults  ...  deposit_type  agent company  \\\n",
              "30946                      5       2  ...    No Deposit  250.0     NaN   \n",
              "40207                      3       2  ...    No Deposit    9.0     NaN   \n",
              "103708                     3       3  ...    No Deposit  220.0     NaN   \n",
              "85144                      1       1  ...    No Deposit    9.0     NaN   \n",
              "109991                     2       2  ...    No Deposit    9.0     NaN   \n",
              "\n",
              "       days_in_waiting_list    customer_type    adr  \\\n",
              "30946                     0        Transient   66.8   \n",
              "40207                     0        Transient   76.5   \n",
              "103708                    0  Transient-Party   60.0   \n",
              "85144                     0  Transient-Party   95.0   \n",
              "109991                    0        Transient  108.0   \n",
              "\n",
              "        required_car_parking_spaces  total_of_special_requests  \\\n",
              "30946                             0                          0   \n",
              "40207                             0                          0   \n",
              "103708                            0                          1   \n",
              "85144                             0                          0   \n",
              "109991                            0                          0   \n",
              "\n",
              "        reservation_status reservation_status_date  \n",
              "30946            Check-Out              2016-12-09  \n",
              "40207             Canceled              2015-07-16  \n",
              "103708           Check-Out              2016-12-30  \n",
              "85144            Check-Out              2016-03-10  \n",
              "109991           Check-Out              2017-04-20  \n",
              "\n",
              "[5 rows x 32 columns]"
            ],
            "text/html": [
              "\n",
              "  <div id=\"df-dacf5491-40a9-4e42-a24d-3bcdeb00aee8\" class=\"colab-df-container\">\n",
              "    <div>\n",
              "<style scoped>\n",
              "    .dataframe tbody tr th:only-of-type {\n",
              "        vertical-align: middle;\n",
              "    }\n",
              "\n",
              "    .dataframe tbody tr th {\n",
              "        vertical-align: top;\n",
              "    }\n",
              "\n",
              "    .dataframe thead th {\n",
              "        text-align: right;\n",
              "    }\n",
              "</style>\n",
              "<table border=\"1\" class=\"dataframe\">\n",
              "  <thead>\n",
              "    <tr style=\"text-align: right;\">\n",
              "      <th></th>\n",
              "      <th>hotel</th>\n",
              "      <th>is_canceled</th>\n",
              "      <th>lead_time</th>\n",
              "      <th>arrival_date_year</th>\n",
              "      <th>arrival_date_month</th>\n",
              "      <th>arrival_date_week_number</th>\n",
              "      <th>arrival_date_day_of_month</th>\n",
              "      <th>stays_in_weekend_nights</th>\n",
              "      <th>stays_in_week_nights</th>\n",
              "      <th>adults</th>\n",
              "      <th>...</th>\n",
              "      <th>deposit_type</th>\n",
              "      <th>agent</th>\n",
              "      <th>company</th>\n",
              "      <th>days_in_waiting_list</th>\n",
              "      <th>customer_type</th>\n",
              "      <th>adr</th>\n",
              "      <th>required_car_parking_spaces</th>\n",
              "      <th>total_of_special_requests</th>\n",
              "      <th>reservation_status</th>\n",
              "      <th>reservation_status_date</th>\n",
              "    </tr>\n",
              "  </thead>\n",
              "  <tbody>\n",
              "    <tr>\n",
              "      <th>30946</th>\n",
              "      <td>Resort Hotel</td>\n",
              "      <td>0</td>\n",
              "      <td>203</td>\n",
              "      <td>2016</td>\n",
              "      <td>December</td>\n",
              "      <td>49</td>\n",
              "      <td>2</td>\n",
              "      <td>2</td>\n",
              "      <td>5</td>\n",
              "      <td>2</td>\n",
              "      <td>...</td>\n",
              "      <td>No Deposit</td>\n",
              "      <td>250.0</td>\n",
              "      <td>NaN</td>\n",
              "      <td>0</td>\n",
              "      <td>Transient</td>\n",
              "      <td>66.8</td>\n",
              "      <td>0</td>\n",
              "      <td>0</td>\n",
              "      <td>Check-Out</td>\n",
              "      <td>2016-12-09</td>\n",
              "    </tr>\n",
              "    <tr>\n",
              "      <th>40207</th>\n",
              "      <td>City Hotel</td>\n",
              "      <td>1</td>\n",
              "      <td>82</td>\n",
              "      <td>2015</td>\n",
              "      <td>July</td>\n",
              "      <td>29</td>\n",
              "      <td>16</td>\n",
              "      <td>0</td>\n",
              "      <td>3</td>\n",
              "      <td>2</td>\n",
              "      <td>...</td>\n",
              "      <td>No Deposit</td>\n",
              "      <td>9.0</td>\n",
              "      <td>NaN</td>\n",
              "      <td>0</td>\n",
              "      <td>Transient</td>\n",
              "      <td>76.5</td>\n",
              "      <td>0</td>\n",
              "      <td>0</td>\n",
              "      <td>Canceled</td>\n",
              "      <td>2015-07-16</td>\n",
              "    </tr>\n",
              "    <tr>\n",
              "      <th>103708</th>\n",
              "      <td>City Hotel</td>\n",
              "      <td>0</td>\n",
              "      <td>25</td>\n",
              "      <td>2016</td>\n",
              "      <td>December</td>\n",
              "      <td>53</td>\n",
              "      <td>27</td>\n",
              "      <td>0</td>\n",
              "      <td>3</td>\n",
              "      <td>3</td>\n",
              "      <td>...</td>\n",
              "      <td>No Deposit</td>\n",
              "      <td>220.0</td>\n",
              "      <td>NaN</td>\n",
              "      <td>0</td>\n",
              "      <td>Transient-Party</td>\n",
              "      <td>60.0</td>\n",
              "      <td>0</td>\n",
              "      <td>1</td>\n",
              "      <td>Check-Out</td>\n",
              "      <td>2016-12-30</td>\n",
              "    </tr>\n",
              "    <tr>\n",
              "      <th>85144</th>\n",
              "      <td>City Hotel</td>\n",
              "      <td>0</td>\n",
              "      <td>1</td>\n",
              "      <td>2016</td>\n",
              "      <td>March</td>\n",
              "      <td>11</td>\n",
              "      <td>9</td>\n",
              "      <td>0</td>\n",
              "      <td>1</td>\n",
              "      <td>1</td>\n",
              "      <td>...</td>\n",
              "      <td>No Deposit</td>\n",
              "      <td>9.0</td>\n",
              "      <td>NaN</td>\n",
              "      <td>0</td>\n",
              "      <td>Transient-Party</td>\n",
              "      <td>95.0</td>\n",
              "      <td>0</td>\n",
              "      <td>0</td>\n",
              "      <td>Check-Out</td>\n",
              "      <td>2016-03-10</td>\n",
              "    </tr>\n",
              "    <tr>\n",
              "      <th>109991</th>\n",
              "      <td>City Hotel</td>\n",
              "      <td>0</td>\n",
              "      <td>70</td>\n",
              "      <td>2017</td>\n",
              "      <td>April</td>\n",
              "      <td>16</td>\n",
              "      <td>16</td>\n",
              "      <td>2</td>\n",
              "      <td>2</td>\n",
              "      <td>2</td>\n",
              "      <td>...</td>\n",
              "      <td>No Deposit</td>\n",
              "      <td>9.0</td>\n",
              "      <td>NaN</td>\n",
              "      <td>0</td>\n",
              "      <td>Transient</td>\n",
              "      <td>108.0</td>\n",
              "      <td>0</td>\n",
              "      <td>0</td>\n",
              "      <td>Check-Out</td>\n",
              "      <td>2017-04-20</td>\n",
              "    </tr>\n",
              "  </tbody>\n",
              "</table>\n",
              "<p>5 rows × 32 columns</p>\n",
              "</div>\n",
              "    <div class=\"colab-df-buttons\">\n",
              "\n",
              "  <div class=\"colab-df-container\">\n",
              "    <button class=\"colab-df-convert\" onclick=\"convertToInteractive('df-dacf5491-40a9-4e42-a24d-3bcdeb00aee8')\"\n",
              "            title=\"Convert this dataframe to an interactive table.\"\n",
              "            style=\"display:none;\">\n",
              "\n",
              "  <svg xmlns=\"http://www.w3.org/2000/svg\" height=\"24px\" viewBox=\"0 -960 960 960\">\n",
              "    <path d=\"M120-120v-720h720v720H120Zm60-500h600v-160H180v160Zm220 220h160v-160H400v160Zm0 220h160v-160H400v160ZM180-400h160v-160H180v160Zm440 0h160v-160H620v160ZM180-180h160v-160H180v160Zm440 0h160v-160H620v160Z\"/>\n",
              "  </svg>\n",
              "    </button>\n",
              "\n",
              "  <style>\n",
              "    .colab-df-container {\n",
              "      display:flex;\n",
              "      gap: 12px;\n",
              "    }\n",
              "\n",
              "    .colab-df-convert {\n",
              "      background-color: #E8F0FE;\n",
              "      border: none;\n",
              "      border-radius: 50%;\n",
              "      cursor: pointer;\n",
              "      display: none;\n",
              "      fill: #1967D2;\n",
              "      height: 32px;\n",
              "      padding: 0 0 0 0;\n",
              "      width: 32px;\n",
              "    }\n",
              "\n",
              "    .colab-df-convert:hover {\n",
              "      background-color: #E2EBFA;\n",
              "      box-shadow: 0px 1px 2px rgba(60, 64, 67, 0.3), 0px 1px 3px 1px rgba(60, 64, 67, 0.15);\n",
              "      fill: #174EA6;\n",
              "    }\n",
              "\n",
              "    .colab-df-buttons div {\n",
              "      margin-bottom: 4px;\n",
              "    }\n",
              "\n",
              "    [theme=dark] .colab-df-convert {\n",
              "      background-color: #3B4455;\n",
              "      fill: #D2E3FC;\n",
              "    }\n",
              "\n",
              "    [theme=dark] .colab-df-convert:hover {\n",
              "      background-color: #434B5C;\n",
              "      box-shadow: 0px 1px 3px 1px rgba(0, 0, 0, 0.15);\n",
              "      filter: drop-shadow(0px 1px 2px rgba(0, 0, 0, 0.3));\n",
              "      fill: #FFFFFF;\n",
              "    }\n",
              "  </style>\n",
              "\n",
              "    <script>\n",
              "      const buttonEl =\n",
              "        document.querySelector('#df-dacf5491-40a9-4e42-a24d-3bcdeb00aee8 button.colab-df-convert');\n",
              "      buttonEl.style.display =\n",
              "        google.colab.kernel.accessAllowed ? 'block' : 'none';\n",
              "\n",
              "      async function convertToInteractive(key) {\n",
              "        const element = document.querySelector('#df-dacf5491-40a9-4e42-a24d-3bcdeb00aee8');\n",
              "        const dataTable =\n",
              "          await google.colab.kernel.invokeFunction('convertToInteractive',\n",
              "                                                    [key], {});\n",
              "        if (!dataTable) return;\n",
              "\n",
              "        const docLinkHtml = 'Like what you see? Visit the ' +\n",
              "          '<a target=\"_blank\" href=https://colab.research.google.com/notebooks/data_table.ipynb>data table notebook</a>'\n",
              "          + ' to learn more about interactive tables.';\n",
              "        element.innerHTML = '';\n",
              "        dataTable['output_type'] = 'display_data';\n",
              "        await google.colab.output.renderOutput(dataTable, element);\n",
              "        const docLink = document.createElement('div');\n",
              "        docLink.innerHTML = docLinkHtml;\n",
              "        element.appendChild(docLink);\n",
              "      }\n",
              "    </script>\n",
              "  </div>\n",
              "\n",
              "\n",
              "<div id=\"df-05b55a22-880d-4793-857c-465fcca028fb\">\n",
              "  <button class=\"colab-df-quickchart\" onclick=\"quickchart('df-05b55a22-880d-4793-857c-465fcca028fb')\"\n",
              "            title=\"Suggest charts\"\n",
              "            style=\"display:none;\">\n",
              "\n",
              "<svg xmlns=\"http://www.w3.org/2000/svg\" height=\"24px\"viewBox=\"0 0 24 24\"\n",
              "     width=\"24px\">\n",
              "    <g>\n",
              "        <path d=\"M19 3H5c-1.1 0-2 .9-2 2v14c0 1.1.9 2 2 2h14c1.1 0 2-.9 2-2V5c0-1.1-.9-2-2-2zM9 17H7v-7h2v7zm4 0h-2V7h2v10zm4 0h-2v-4h2v4z\"/>\n",
              "    </g>\n",
              "</svg>\n",
              "  </button>\n",
              "\n",
              "<style>\n",
              "  .colab-df-quickchart {\n",
              "      --bg-color: #E8F0FE;\n",
              "      --fill-color: #1967D2;\n",
              "      --hover-bg-color: #E2EBFA;\n",
              "      --hover-fill-color: #174EA6;\n",
              "      --disabled-fill-color: #AAA;\n",
              "      --disabled-bg-color: #DDD;\n",
              "  }\n",
              "\n",
              "  [theme=dark] .colab-df-quickchart {\n",
              "      --bg-color: #3B4455;\n",
              "      --fill-color: #D2E3FC;\n",
              "      --hover-bg-color: #434B5C;\n",
              "      --hover-fill-color: #FFFFFF;\n",
              "      --disabled-bg-color: #3B4455;\n",
              "      --disabled-fill-color: #666;\n",
              "  }\n",
              "\n",
              "  .colab-df-quickchart {\n",
              "    background-color: var(--bg-color);\n",
              "    border: none;\n",
              "    border-radius: 50%;\n",
              "    cursor: pointer;\n",
              "    display: none;\n",
              "    fill: var(--fill-color);\n",
              "    height: 32px;\n",
              "    padding: 0;\n",
              "    width: 32px;\n",
              "  }\n",
              "\n",
              "  .colab-df-quickchart:hover {\n",
              "    background-color: var(--hover-bg-color);\n",
              "    box-shadow: 0 1px 2px rgba(60, 64, 67, 0.3), 0 1px 3px 1px rgba(60, 64, 67, 0.15);\n",
              "    fill: var(--button-hover-fill-color);\n",
              "  }\n",
              "\n",
              "  .colab-df-quickchart-complete:disabled,\n",
              "  .colab-df-quickchart-complete:disabled:hover {\n",
              "    background-color: var(--disabled-bg-color);\n",
              "    fill: var(--disabled-fill-color);\n",
              "    box-shadow: none;\n",
              "  }\n",
              "\n",
              "  .colab-df-spinner {\n",
              "    border: 2px solid var(--fill-color);\n",
              "    border-color: transparent;\n",
              "    border-bottom-color: var(--fill-color);\n",
              "    animation:\n",
              "      spin 1s steps(1) infinite;\n",
              "  }\n",
              "\n",
              "  @keyframes spin {\n",
              "    0% {\n",
              "      border-color: transparent;\n",
              "      border-bottom-color: var(--fill-color);\n",
              "      border-left-color: var(--fill-color);\n",
              "    }\n",
              "    20% {\n",
              "      border-color: transparent;\n",
              "      border-left-color: var(--fill-color);\n",
              "      border-top-color: var(--fill-color);\n",
              "    }\n",
              "    30% {\n",
              "      border-color: transparent;\n",
              "      border-left-color: var(--fill-color);\n",
              "      border-top-color: var(--fill-color);\n",
              "      border-right-color: var(--fill-color);\n",
              "    }\n",
              "    40% {\n",
              "      border-color: transparent;\n",
              "      border-right-color: var(--fill-color);\n",
              "      border-top-color: var(--fill-color);\n",
              "    }\n",
              "    60% {\n",
              "      border-color: transparent;\n",
              "      border-right-color: var(--fill-color);\n",
              "    }\n",
              "    80% {\n",
              "      border-color: transparent;\n",
              "      border-right-color: var(--fill-color);\n",
              "      border-bottom-color: var(--fill-color);\n",
              "    }\n",
              "    90% {\n",
              "      border-color: transparent;\n",
              "      border-bottom-color: var(--fill-color);\n",
              "    }\n",
              "  }\n",
              "</style>\n",
              "\n",
              "  <script>\n",
              "    async function quickchart(key) {\n",
              "      const quickchartButtonEl =\n",
              "        document.querySelector('#' + key + ' button');\n",
              "      quickchartButtonEl.disabled = true;  // To prevent multiple clicks.\n",
              "      quickchartButtonEl.classList.add('colab-df-spinner');\n",
              "      try {\n",
              "        const charts = await google.colab.kernel.invokeFunction(\n",
              "            'suggestCharts', [key], {});\n",
              "      } catch (error) {\n",
              "        console.error('Error during call to suggestCharts:', error);\n",
              "      }\n",
              "      quickchartButtonEl.classList.remove('colab-df-spinner');\n",
              "      quickchartButtonEl.classList.add('colab-df-quickchart-complete');\n",
              "    }\n",
              "    (() => {\n",
              "      let quickchartButtonEl =\n",
              "        document.querySelector('#df-05b55a22-880d-4793-857c-465fcca028fb button');\n",
              "      quickchartButtonEl.style.display =\n",
              "        google.colab.kernel.accessAllowed ? 'block' : 'none';\n",
              "    })();\n",
              "  </script>\n",
              "</div>\n",
              "\n",
              "    </div>\n",
              "  </div>\n"
            ],
            "application/vnd.google.colaboratory.intrinsic+json": {
              "type": "dataframe",
              "variable_name": "hotel_data"
            }
          },
          "metadata": {},
          "execution_count": 3
        }
      ]
    },
    {
      "cell_type": "code",
      "source": [
        "B = 400\n",
        "hotel_sample_200 = hotel_data.sample(n=200, random_state=50)"
      ],
      "metadata": {
        "id": "oG-Wk_9lyB8h"
      },
      "execution_count": null,
      "outputs": []
    },
    {
      "cell_type": "code",
      "source": [
        "hotel_encoder = LabelEncoder()\n",
        "hotel_sample_200['hotel_encoded'] = \\\n",
        "          hotel_encoder.fit_transform(hotel_sample_200['hotel'])\n",
        "hotel_data['hotel_encoded'] = \\\n",
        "          hotel_encoder.fit_transform(hotel_data['hotel'])\n",
        "year_encoder = LabelEncoder()\n",
        "hotel_sample_200['arrival_date_year_encoded'] = \\\n",
        "          year_encoder.fit_transform(hotel_sample_200['arrival_date_year'])\n",
        "hotel_data['arrival_date_year_encoded'] = \\\n",
        "          year_encoder.fit_transform(hotel_data['arrival_date_year'])\n",
        "\n",
        "X = pd.concat([\n",
        "    hotel_sample_200['lead_time'],\n",
        "    hotel_sample_200['hotel_encoded'],\n",
        "    hotel_sample_200['arrival_date_year_encoded']\n",
        "], axis=1)\n",
        "X_cols = X.columns\n",
        "X_orig = pd.concat([\n",
        "    hotel_data['lead_time'],\n",
        "    hotel_data['hotel_encoded'],\n",
        "    hotel_data['arrival_date_year_encoded']\n",
        "], axis=1)\n",
        "\n",
        "x = np.array(np.hstack([np.ones((X.shape[0], 1)), X]))\n",
        "x_orig = np.array(np.hstack([np.ones((X_orig.shape[0], 1)), X_orig]))\n",
        "C = np.linalg.inv(x.T @ x) # since matrix is invertible\n",
        "C_orig = np.linalg.inv(x_orig.T @ x_orig)\n",
        "\n",
        "Y = hotel_sample_200['adr']\n",
        "X_train, X_test, Y_train, Y_test = train_test_split(X, Y, test_size=0.2, random_state=42)\n",
        "model = LinearRegression()\n",
        "model.fit(X_train, Y_train)\n",
        "\n",
        "Y_pred = model.predict(X_test)\n",
        "residuals = Y_test - Y_pred\n",
        "mse = mean_squared_error(Y_test, Y_pred)\n",
        "r2 = r2_score(Y_test, Y_pred)\n",
        "\n",
        "print(\"\\nModel Performance:\")\n",
        "print(f\"Mean Squared Error: {mse:.2f}\")\n",
        "print(f\"R-squared: {r2:.2f}\")\n",
        "\n",
        "coefficients = pd.DataFrame(model.coef_, index=X.columns, columns=['Coefficient'])\n",
        "print(\"\\nModel Coefficients:\")\n",
        "print(coefficients)\n",
        "print(f\"\\nIntercept: {model.intercept_:.2f}\")"
      ],
      "metadata": {
        "colab": {
          "base_uri": "https://localhost:8080/"
        },
        "id": "_Qg_fxRKzsJZ",
        "outputId": "262fbdc7-5b8d-40d6-ed70-f2e5080d4729"
      },
      "execution_count": null,
      "outputs": [
        {
          "output_type": "stream",
          "name": "stdout",
          "text": [
            "\n",
            "Model Performance:\n",
            "Mean Squared Error: 2216.31\n",
            "R-squared: 0.05\n",
            "\n",
            "Model Coefficients:\n",
            "                           Coefficient\n",
            "lead_time                    -0.048748\n",
            "hotel_encoded               -13.920499\n",
            "arrival_date_year_encoded    14.329177\n",
            "\n",
            "Intercept: 92.48\n"
          ]
        }
      ]
    },
    {
      "cell_type": "markdown",
      "source": [
        ":## Part A - Linear Regression\n",
        "***Research question:***\n",
        "1. The influence of lead_time, hotel and year of arrival variables have on the variable adr"
      ],
      "metadata": {
        "id": "a5ANFn93xWoh"
      }
    },
    {
      "cell_type": "markdown",
      "source": [
        "## Section 1 - Calculating CI's"
      ],
      "metadata": {
        "id": "inQa-K2QyD5k"
      }
    },
    {
      "cell_type": "markdown",
      "source": [
        "### Section 1.a - Normal approx where s.e depends on the variance\n",
        "\n",
        "---\n",
        "\n",
        "matrix of the estimated β"
      ],
      "metadata": {
        "id": "awLFQ_LSyK8w"
      }
    },
    {
      "cell_type": "code",
      "source": [
        "n=200\n",
        "p=4\n",
        "\n",
        "# Extract relevant features and calculate beta hat.\n",
        "X = hotel_sample_200[['lead_time','hotel_encoded','arrival_date_year_encoded']].to_numpy()\n",
        "y = hotel_sample_200['adr'].to_numpy()\n",
        "X = np.c_[np.ones(X.shape[0]), X]\n",
        "xTx = np.matmul(X.T,X)\n",
        "xTx_inv = np.linalg.inv(xTx)\n",
        "xTy = np.matmul(X.T,y)\n",
        "ols_sampled = np.matmul(xTx_inv,xTy)\n",
        "\n",
        "# Build CI using normal approx. and beta's variance matrix.\n",
        "X_all = hotel_sample_200[['lead_time','hotel_encoded','arrival_date_year_encoded']].to_numpy()\n",
        "y_all = hotel_sample_200['adr'].to_numpy()\n",
        "X_all = np.c_[np.ones(X_all.shape[0]), X_all]\n",
        "xTx = np.matmul(X_all.T,X_all)\n",
        "xTx_inv = np.linalg.inv(xTx)\n",
        "xTy = np.matmul(X_all.T,y_all)\n",
        "ols_all = np.matmul(xTx_inv,xTy)\n",
        "\n",
        "C = np.linalg.inv(X.T@X)\n",
        "e = y - np.dot(X, ols_sampled)\n",
        "var_estimate = 1/(n-p)*sum([x**2 for x in e])\n",
        "norm_quantile = stats.norm.ppf(0.975)\n",
        "CI_normal_matrix = []\n",
        "for i, variable in zip(range(ols_sampled.shape[0]), ['bias', 'lead_time', 'hotel_encoded', 'arrival_date_year_encoded']):\n",
        "  std_estimate = (var_estimate*C[i][i])**(1/2)\n",
        "  CI_beta_i = [ols_sampled[i] - norm_quantile*std_estimate, ols_sampled[i] + norm_quantile*std_estimate]\n",
        "  CI_normal_matrix.append(CI_beta_i)\n",
        "  print(f\"CI for beta_{i} is: {CI_beta_i}\")\n",
        "  print(f\"Is the CI for {variable} (beta_{i}) in the sample data contains the estimator of the original data: {ols_all[i] >= CI_beta_i[0] and ols_all[i] <= CI_beta_i[1]}\")\n",
        "  print()\n"
      ],
      "metadata": {
        "id": "jCDI-8W2xHPY",
        "colab": {
          "base_uri": "https://localhost:8080/"
        },
        "outputId": "3cf6c69b-2fcb-43db-f947-3006c9c06754"
      },
      "execution_count": null,
      "outputs": [
        {
          "output_type": "stream",
          "name": "stdout",
          "text": [
            "CI for beta_0 is: [68.96485887090364, 104.70012629931477]\n",
            "Is the CI for bias (beta_0) in the sample data contains the estimator of the original data: True\n",
            "\n",
            "CI for beta_1 is: [-0.10120803718082803, 0.031891926648260335]\n",
            "Is the CI for lead_time (beta_1) in the sample data contains the estimator of the original data: True\n",
            "\n",
            "CI for beta_2 is: [-22.617481255495328, 6.545536710903965]\n",
            "Is the CI for hotel_encoded (beta_2) in the sample data contains the estimator of the original data: True\n",
            "\n",
            "CI for beta_3 is: [6.966972770965427, 26.92761752322643]\n",
            "Is the CI for arrival_date_year_encoded (beta_3) in the sample data contains the estimator of the original data: True\n",
            "\n"
          ]
        }
      ]
    },
    {
      "cell_type": "markdown",
      "source": [
        "### Section 1.b - Normal approx where s.e estimator is based on **bootstrap**"
      ],
      "metadata": {
        "id": "JCYfy45gyZzI"
      }
    },
    {
      "cell_type": "code",
      "source": [
        "#Build CI using normal approx. and bootstrap.\n",
        "B = 400\n",
        "beta_0 = []\n",
        "beta_1 = []\n",
        "beta_2 = []\n",
        "beta_3 = []\n",
        "\n",
        "for b in range(B):\n",
        "  sampled_df = hotel_sample_200.sample(n, replace=True)\n",
        "  x_sampled = sampled_df[['lead_time', 'hotel_encoded', 'arrival_date_year_encoded']].to_numpy()\n",
        "  x_sampled = np.c_[np.ones(x_sampled.shape[0]), x_sampled]\n",
        "  y_sampled = sampled_df['adr'].to_numpy()\n",
        "  xTy_sampled = np.matmul(x_sampled.T, y_sampled)\n",
        "  C_sampled = np.linalg.inv(x_sampled.T@x_sampled)\n",
        "  ols_estimator_sampled = np.matmul(C_sampled, xTy_sampled)\n",
        "  beta_0.append(ols_estimator_sampled[0])\n",
        "  beta_1.append(ols_estimator_sampled[1])\n",
        "  beta_2.append(ols_estimator_sampled[2])\n",
        "  beta_3.append(ols_estimator_sampled[3])\n",
        "\n",
        "betas_se = [np.std(beta_0), np.std(beta_1), np.std(beta_2), np.std(beta_3)]\n",
        "normal_bootstrap_ci = []\n",
        "\n",
        "for i, variable in zip(range(len(betas_se)), ['bias', 'lead_time', 'hotel_encoded', 'arrival_date_year_encoded']):\n",
        "  CI = [ols_sampled[i] - norm_quantile*betas_se[i], ols_sampled[i] + norm_quantile*betas_se[i]]\n",
        "  normal_bootstrap_ci.append(CI)\n",
        "  print(f\"CI for beta_{i} is: {CI}\")\n",
        "  print(f\"Is the CI of {variable} (beta_{i}) in the sample data contains the estimator of the original data: {ols_all[i] >= CI[0] and ols_all[i] <= CI[1]}\\n\")\n"
      ],
      "metadata": {
        "id": "Mk1TgylKyZcR",
        "colab": {
          "base_uri": "https://localhost:8080/"
        },
        "outputId": "0cdb1156-b317-4c2a-e545-264583745609"
      },
      "execution_count": null,
      "outputs": [
        {
          "output_type": "stream",
          "name": "stdout",
          "text": [
            "CI for beta_0 is: [71.901923004164, 101.76306216605441]\n",
            "Is the CI of bias (beta_0) in the sample data contains the estimator of the original data: True\n",
            "\n",
            "CI for beta_1 is: [-0.09383181782543931, 0.024515707292871607]\n",
            "Is the CI of lead_time (beta_1) in the sample data contains the estimator of the original data: True\n",
            "\n",
            "CI for beta_2 is: [-26.31073868335032, 10.238794138758958]\n",
            "Is the CI of hotel_encoded (beta_2) in the sample data contains the estimator of the original data: True\n",
            "\n",
            "CI for beta_3 is: [7.254378898839514, 26.640211395352345]\n",
            "Is the CI of arrival_date_year_encoded (beta_3) in the sample data contains the estimator of the original data: True\n",
            "\n"
          ]
        }
      ]
    },
    {
      "cell_type": "markdown",
      "source": [
        "### Section 1.c - CI using boostrap with the pivot method"
      ],
      "metadata": {
        "id": "qvqcI6S-yxlx"
      }
    },
    {
      "cell_type": "code",
      "source": [
        "# Build CI using pivotal method bootstrap.\n",
        "quantiles_dict = {}\n",
        "for i, beta_list in enumerate(zip([beta_0, beta_1, beta_2, beta_3])):\n",
        "  quantiles_dict[f\"beta_{i}\"] = (np.quantile(beta_list, 0.975), np.quantile(beta_list, 0.025))\n",
        "\n",
        "# calculate the pivotal cofidence intervals\n",
        "pivotal_bootstrap_ci = []\n",
        "for i, variable in zip(range(len(quantiles_dict)), ['bias', 'lead_time', 'hotel_encoded', 'arrival_date_year_encoded']):\n",
        "  ci = [2*ols_sampled[i] - quantiles_dict[f\"beta_{i}\"][0], 2*ols_sampled[i] - quantiles_dict[f\"beta_{i}\"][1]]\n",
        "  pivotal_bootstrap_ci.append(ci)\n",
        "  print(f'CI for {variable} is {ci}')\n",
        "  print(f'Is the CI for {variable} (beta_{i}) in the sample data contains the estimator the original data: {ols_all[i] >= ci[0] and ols_all[i] <= ci[1]} \\n')"
      ],
      "metadata": {
        "id": "X5KcpE20y4Is",
        "colab": {
          "base_uri": "https://localhost:8080/"
        },
        "outputId": "8341d310-6270-4c62-9f33-a5e84960d0bd"
      },
      "execution_count": null,
      "outputs": [
        {
          "output_type": "stream",
          "name": "stdout",
          "text": [
            "CI for bias is [73.60603267140371, 102.44966010410488]\n",
            "Is the CI for bias (beta_0) in the sample data contains the estimator the original data: True \n",
            "\n",
            "CI for lead_time is [-0.09599124259943392, 0.02099732786687336]\n",
            "Is the CI for lead_time (beta_1) in the sample data contains the estimator the original data: True \n",
            "\n",
            "CI for hotel_encoded is [-26.97613912862316, 9.489816716929994]\n",
            "Is the CI for hotel_encoded (beta_2) in the sample data contains the estimator the original data: True \n",
            "\n",
            "CI for arrival_date_year_encoded is [6.1508744232520804, 25.487272041847064]\n",
            "Is the CI for arrival_date_year_encoded (beta_3) in the sample data contains the estimator the original data: True \n",
            "\n"
          ]
        }
      ]
    },
    {
      "cell_type": "markdown",
      "source": [
        "### Section 1.d - CI using bootstrap with the percentile method"
      ],
      "metadata": {
        "id": "SgjF7uS1y43_"
      }
    },
    {
      "cell_type": "code",
      "source": [
        "# Build CI using quantiles method bootstrap.\n",
        "quantiles_bootstrap_ci = []\n",
        "\n",
        "for i, variable in zip(range(len(quantiles_dict)), ['bias', 'lead_time', 'hotel_encoded', 'arrival_date_year_encoded']):\n",
        "  ci = [quantiles_dict[f\"beta_{i}\"][1], quantiles_dict[f\"beta_{i}\"][0]]\n",
        "  quantiles_bootstrap_ci.append(ci)\n",
        "  print(f'CI for {variable} is {ci}')\n",
        "  print(f'Is the CI of {variable} (beta_{i}) in the sample data contains the estimator the original data: {ols_all[i] >= ci[0] and ols_all[i] <= ci[1]}\\n')"
      ],
      "metadata": {
        "id": "vHEjpwMuy4m1",
        "colab": {
          "base_uri": "https://localhost:8080/"
        },
        "outputId": "ba581dc0-57fa-49f9-c8d8-99184a439181"
      },
      "execution_count": null,
      "outputs": [
        {
          "output_type": "stream",
          "name": "stdout",
          "text": [
            "CI for bias is [71.21532506611354, 100.0589524988147]\n",
            "Is the CI of bias (beta_0) in the sample data contains the estimator the original data: True\n",
            "\n",
            "CI for lead_time is [-0.09031343839944106, 0.026675132066866225]\n",
            "Is the CI of lead_time (beta_1) in the sample data contains the estimator the original data: True\n",
            "\n",
            "CI for hotel_encoded is [-25.561761261521355, 10.9041945840318]\n",
            "Is the CI of hotel_encoded (beta_2) in the sample data contains the estimator the original data: True\n",
            "\n",
            "CI for arrival_date_year_encoded is [8.407318252344794, 27.743715870939777]\n",
            "Is the CI of arrival_date_year_encoded (beta_3) in the sample data contains the estimator the original data: True\n",
            "\n"
          ]
        }
      ]
    },
    {
      "cell_type": "markdown",
      "source": [
        "## Section 2 - compare CI intervals of β from section 1 and if they contain the CI on all of the data"
      ],
      "metadata": {
        "id": "qKWmExr4y_8S"
      }
    },
    {
      "cell_type": "code",
      "source": [
        "#RAQUE'S VERSION, I THINK THIS IS WHAT WE ACTUALLY HAVE TO DO:\n",
        "# Build dict of CI lengths per method and beta, and convert it to a table.\n",
        "ci_lengths = {\"coefficient\": [\"Bias (beta_0)\", \"lead_time (beta_1)\", \"Hotel (beta_2)\", \"arrival_date_year (beta_3)\"], \"normal_matrix\": [], \"normal_bootstrap\": [], \"pivot_bootstrap\": [], \"quantile_bootstrap\": []}\n",
        "for i in range(p):\n",
        "  ci_lengths[\"normal_matrix\"].append(round(CI_normal_matrix[i][1] - CI_normal_matrix[i][0], 4))\n",
        "  ci_lengths[\"normal_bootstrap\"].append(round(normal_bootstrap_ci[i][1] - normal_bootstrap_ci[i][0], 4))\n",
        "  ci_lengths[\"pivot_bootstrap\"].append(round(pivotal_bootstrap_ci[i][1] - pivotal_bootstrap_ci[i][0], 4))\n",
        "  ci_lengths[\"quantile_bootstrap\"].append(round(quantiles_bootstrap_ci[i][1] - quantiles_bootstrap_ci[i][0], 4))\n",
        "\n",
        "ci_lengths_df = pd.DataFrame(ci_lengths)\n",
        "ci_lengths_df = ci_lengths_df.set_index(\"coefficient\", drop=True)\n",
        "ci_lengths_df"
      ],
      "metadata": {
        "colab": {
          "base_uri": "https://localhost:8080/",
          "height": 261
        },
        "id": "NbzSIlbPh2Mm",
        "outputId": "ad3f74b9-af37-491c-8a1c-d5797687cd65"
      },
      "execution_count": null,
      "outputs": [
        {
          "output_type": "execute_result",
          "data": {
            "text/plain": [
              "                            normal_matrix  normal_bootstrap  pivot_bootstrap  \\\n",
              "coefficient                                                                    \n",
              "Bias (beta_0)                     35.7353           29.8611          28.8436   \n",
              "lead_time (beta_1)                 0.1331            0.1183           0.1170   \n",
              "Hotel (beta_2)                    29.1630           36.5495          36.4660   \n",
              "arrival_date_year (beta_3)        19.9606           19.3858          19.3364   \n",
              "\n",
              "                            quantile_bootstrap  \n",
              "coefficient                                     \n",
              "Bias (beta_0)                          28.8436  \n",
              "lead_time (beta_1)                      0.1170  \n",
              "Hotel (beta_2)                         36.4660  \n",
              "arrival_date_year (beta_3)             19.3364  "
            ],
            "text/html": [
              "\n",
              "  <div id=\"df-062c9d2b-f129-4ed2-bef7-0c7f1fd53d19\" class=\"colab-df-container\">\n",
              "    <div>\n",
              "<style scoped>\n",
              "    .dataframe tbody tr th:only-of-type {\n",
              "        vertical-align: middle;\n",
              "    }\n",
              "\n",
              "    .dataframe tbody tr th {\n",
              "        vertical-align: top;\n",
              "    }\n",
              "\n",
              "    .dataframe thead th {\n",
              "        text-align: right;\n",
              "    }\n",
              "</style>\n",
              "<table border=\"1\" class=\"dataframe\">\n",
              "  <thead>\n",
              "    <tr style=\"text-align: right;\">\n",
              "      <th></th>\n",
              "      <th>normal_matrix</th>\n",
              "      <th>normal_bootstrap</th>\n",
              "      <th>pivot_bootstrap</th>\n",
              "      <th>quantile_bootstrap</th>\n",
              "    </tr>\n",
              "    <tr>\n",
              "      <th>coefficient</th>\n",
              "      <th></th>\n",
              "      <th></th>\n",
              "      <th></th>\n",
              "      <th></th>\n",
              "    </tr>\n",
              "  </thead>\n",
              "  <tbody>\n",
              "    <tr>\n",
              "      <th>Bias (beta_0)</th>\n",
              "      <td>35.7353</td>\n",
              "      <td>29.8611</td>\n",
              "      <td>28.8436</td>\n",
              "      <td>28.8436</td>\n",
              "    </tr>\n",
              "    <tr>\n",
              "      <th>lead_time (beta_1)</th>\n",
              "      <td>0.1331</td>\n",
              "      <td>0.1183</td>\n",
              "      <td>0.1170</td>\n",
              "      <td>0.1170</td>\n",
              "    </tr>\n",
              "    <tr>\n",
              "      <th>Hotel (beta_2)</th>\n",
              "      <td>29.1630</td>\n",
              "      <td>36.5495</td>\n",
              "      <td>36.4660</td>\n",
              "      <td>36.4660</td>\n",
              "    </tr>\n",
              "    <tr>\n",
              "      <th>arrival_date_year (beta_3)</th>\n",
              "      <td>19.9606</td>\n",
              "      <td>19.3858</td>\n",
              "      <td>19.3364</td>\n",
              "      <td>19.3364</td>\n",
              "    </tr>\n",
              "  </tbody>\n",
              "</table>\n",
              "</div>\n",
              "    <div class=\"colab-df-buttons\">\n",
              "\n",
              "  <div class=\"colab-df-container\">\n",
              "    <button class=\"colab-df-convert\" onclick=\"convertToInteractive('df-062c9d2b-f129-4ed2-bef7-0c7f1fd53d19')\"\n",
              "            title=\"Convert this dataframe to an interactive table.\"\n",
              "            style=\"display:none;\">\n",
              "\n",
              "  <svg xmlns=\"http://www.w3.org/2000/svg\" height=\"24px\" viewBox=\"0 -960 960 960\">\n",
              "    <path d=\"M120-120v-720h720v720H120Zm60-500h600v-160H180v160Zm220 220h160v-160H400v160Zm0 220h160v-160H400v160ZM180-400h160v-160H180v160Zm440 0h160v-160H620v160ZM180-180h160v-160H180v160Zm440 0h160v-160H620v160Z\"/>\n",
              "  </svg>\n",
              "    </button>\n",
              "\n",
              "  <style>\n",
              "    .colab-df-container {\n",
              "      display:flex;\n",
              "      gap: 12px;\n",
              "    }\n",
              "\n",
              "    .colab-df-convert {\n",
              "      background-color: #E8F0FE;\n",
              "      border: none;\n",
              "      border-radius: 50%;\n",
              "      cursor: pointer;\n",
              "      display: none;\n",
              "      fill: #1967D2;\n",
              "      height: 32px;\n",
              "      padding: 0 0 0 0;\n",
              "      width: 32px;\n",
              "    }\n",
              "\n",
              "    .colab-df-convert:hover {\n",
              "      background-color: #E2EBFA;\n",
              "      box-shadow: 0px 1px 2px rgba(60, 64, 67, 0.3), 0px 1px 3px 1px rgba(60, 64, 67, 0.15);\n",
              "      fill: #174EA6;\n",
              "    }\n",
              "\n",
              "    .colab-df-buttons div {\n",
              "      margin-bottom: 4px;\n",
              "    }\n",
              "\n",
              "    [theme=dark] .colab-df-convert {\n",
              "      background-color: #3B4455;\n",
              "      fill: #D2E3FC;\n",
              "    }\n",
              "\n",
              "    [theme=dark] .colab-df-convert:hover {\n",
              "      background-color: #434B5C;\n",
              "      box-shadow: 0px 1px 3px 1px rgba(0, 0, 0, 0.15);\n",
              "      filter: drop-shadow(0px 1px 2px rgba(0, 0, 0, 0.3));\n",
              "      fill: #FFFFFF;\n",
              "    }\n",
              "  </style>\n",
              "\n",
              "    <script>\n",
              "      const buttonEl =\n",
              "        document.querySelector('#df-062c9d2b-f129-4ed2-bef7-0c7f1fd53d19 button.colab-df-convert');\n",
              "      buttonEl.style.display =\n",
              "        google.colab.kernel.accessAllowed ? 'block' : 'none';\n",
              "\n",
              "      async function convertToInteractive(key) {\n",
              "        const element = document.querySelector('#df-062c9d2b-f129-4ed2-bef7-0c7f1fd53d19');\n",
              "        const dataTable =\n",
              "          await google.colab.kernel.invokeFunction('convertToInteractive',\n",
              "                                                    [key], {});\n",
              "        if (!dataTable) return;\n",
              "\n",
              "        const docLinkHtml = 'Like what you see? Visit the ' +\n",
              "          '<a target=\"_blank\" href=https://colab.research.google.com/notebooks/data_table.ipynb>data table notebook</a>'\n",
              "          + ' to learn more about interactive tables.';\n",
              "        element.innerHTML = '';\n",
              "        dataTable['output_type'] = 'display_data';\n",
              "        await google.colab.output.renderOutput(dataTable, element);\n",
              "        const docLink = document.createElement('div');\n",
              "        docLink.innerHTML = docLinkHtml;\n",
              "        element.appendChild(docLink);\n",
              "      }\n",
              "    </script>\n",
              "  </div>\n",
              "\n",
              "\n",
              "<div id=\"df-571b9614-1227-4b6f-a4e0-6b97b4bd657a\">\n",
              "  <button class=\"colab-df-quickchart\" onclick=\"quickchart('df-571b9614-1227-4b6f-a4e0-6b97b4bd657a')\"\n",
              "            title=\"Suggest charts\"\n",
              "            style=\"display:none;\">\n",
              "\n",
              "<svg xmlns=\"http://www.w3.org/2000/svg\" height=\"24px\"viewBox=\"0 0 24 24\"\n",
              "     width=\"24px\">\n",
              "    <g>\n",
              "        <path d=\"M19 3H5c-1.1 0-2 .9-2 2v14c0 1.1.9 2 2 2h14c1.1 0 2-.9 2-2V5c0-1.1-.9-2-2-2zM9 17H7v-7h2v7zm4 0h-2V7h2v10zm4 0h-2v-4h2v4z\"/>\n",
              "    </g>\n",
              "</svg>\n",
              "  </button>\n",
              "\n",
              "<style>\n",
              "  .colab-df-quickchart {\n",
              "      --bg-color: #E8F0FE;\n",
              "      --fill-color: #1967D2;\n",
              "      --hover-bg-color: #E2EBFA;\n",
              "      --hover-fill-color: #174EA6;\n",
              "      --disabled-fill-color: #AAA;\n",
              "      --disabled-bg-color: #DDD;\n",
              "  }\n",
              "\n",
              "  [theme=dark] .colab-df-quickchart {\n",
              "      --bg-color: #3B4455;\n",
              "      --fill-color: #D2E3FC;\n",
              "      --hover-bg-color: #434B5C;\n",
              "      --hover-fill-color: #FFFFFF;\n",
              "      --disabled-bg-color: #3B4455;\n",
              "      --disabled-fill-color: #666;\n",
              "  }\n",
              "\n",
              "  .colab-df-quickchart {\n",
              "    background-color: var(--bg-color);\n",
              "    border: none;\n",
              "    border-radius: 50%;\n",
              "    cursor: pointer;\n",
              "    display: none;\n",
              "    fill: var(--fill-color);\n",
              "    height: 32px;\n",
              "    padding: 0;\n",
              "    width: 32px;\n",
              "  }\n",
              "\n",
              "  .colab-df-quickchart:hover {\n",
              "    background-color: var(--hover-bg-color);\n",
              "    box-shadow: 0 1px 2px rgba(60, 64, 67, 0.3), 0 1px 3px 1px rgba(60, 64, 67, 0.15);\n",
              "    fill: var(--button-hover-fill-color);\n",
              "  }\n",
              "\n",
              "  .colab-df-quickchart-complete:disabled,\n",
              "  .colab-df-quickchart-complete:disabled:hover {\n",
              "    background-color: var(--disabled-bg-color);\n",
              "    fill: var(--disabled-fill-color);\n",
              "    box-shadow: none;\n",
              "  }\n",
              "\n",
              "  .colab-df-spinner {\n",
              "    border: 2px solid var(--fill-color);\n",
              "    border-color: transparent;\n",
              "    border-bottom-color: var(--fill-color);\n",
              "    animation:\n",
              "      spin 1s steps(1) infinite;\n",
              "  }\n",
              "\n",
              "  @keyframes spin {\n",
              "    0% {\n",
              "      border-color: transparent;\n",
              "      border-bottom-color: var(--fill-color);\n",
              "      border-left-color: var(--fill-color);\n",
              "    }\n",
              "    20% {\n",
              "      border-color: transparent;\n",
              "      border-left-color: var(--fill-color);\n",
              "      border-top-color: var(--fill-color);\n",
              "    }\n",
              "    30% {\n",
              "      border-color: transparent;\n",
              "      border-left-color: var(--fill-color);\n",
              "      border-top-color: var(--fill-color);\n",
              "      border-right-color: var(--fill-color);\n",
              "    }\n",
              "    40% {\n",
              "      border-color: transparent;\n",
              "      border-right-color: var(--fill-color);\n",
              "      border-top-color: var(--fill-color);\n",
              "    }\n",
              "    60% {\n",
              "      border-color: transparent;\n",
              "      border-right-color: var(--fill-color);\n",
              "    }\n",
              "    80% {\n",
              "      border-color: transparent;\n",
              "      border-right-color: var(--fill-color);\n",
              "      border-bottom-color: var(--fill-color);\n",
              "    }\n",
              "    90% {\n",
              "      border-color: transparent;\n",
              "      border-bottom-color: var(--fill-color);\n",
              "    }\n",
              "  }\n",
              "</style>\n",
              "\n",
              "  <script>\n",
              "    async function quickchart(key) {\n",
              "      const quickchartButtonEl =\n",
              "        document.querySelector('#' + key + ' button');\n",
              "      quickchartButtonEl.disabled = true;  // To prevent multiple clicks.\n",
              "      quickchartButtonEl.classList.add('colab-df-spinner');\n",
              "      try {\n",
              "        const charts = await google.colab.kernel.invokeFunction(\n",
              "            'suggestCharts', [key], {});\n",
              "      } catch (error) {\n",
              "        console.error('Error during call to suggestCharts:', error);\n",
              "      }\n",
              "      quickchartButtonEl.classList.remove('colab-df-spinner');\n",
              "      quickchartButtonEl.classList.add('colab-df-quickchart-complete');\n",
              "    }\n",
              "    (() => {\n",
              "      let quickchartButtonEl =\n",
              "        document.querySelector('#df-571b9614-1227-4b6f-a4e0-6b97b4bd657a button');\n",
              "      quickchartButtonEl.style.display =\n",
              "        google.colab.kernel.accessAllowed ? 'block' : 'none';\n",
              "    })();\n",
              "  </script>\n",
              "</div>\n",
              "\n",
              "  <div id=\"id_186c4ecb-fbc8-4101-b353-6c57aa6e7200\">\n",
              "    <style>\n",
              "      .colab-df-generate {\n",
              "        background-color: #E8F0FE;\n",
              "        border: none;\n",
              "        border-radius: 50%;\n",
              "        cursor: pointer;\n",
              "        display: none;\n",
              "        fill: #1967D2;\n",
              "        height: 32px;\n",
              "        padding: 0 0 0 0;\n",
              "        width: 32px;\n",
              "      }\n",
              "\n",
              "      .colab-df-generate:hover {\n",
              "        background-color: #E2EBFA;\n",
              "        box-shadow: 0px 1px 2px rgba(60, 64, 67, 0.3), 0px 1px 3px 1px rgba(60, 64, 67, 0.15);\n",
              "        fill: #174EA6;\n",
              "      }\n",
              "\n",
              "      [theme=dark] .colab-df-generate {\n",
              "        background-color: #3B4455;\n",
              "        fill: #D2E3FC;\n",
              "      }\n",
              "\n",
              "      [theme=dark] .colab-df-generate:hover {\n",
              "        background-color: #434B5C;\n",
              "        box-shadow: 0px 1px 3px 1px rgba(0, 0, 0, 0.15);\n",
              "        filter: drop-shadow(0px 1px 2px rgba(0, 0, 0, 0.3));\n",
              "        fill: #FFFFFF;\n",
              "      }\n",
              "    </style>\n",
              "    <button class=\"colab-df-generate\" onclick=\"generateWithVariable('ci_lengths_df')\"\n",
              "            title=\"Generate code using this dataframe.\"\n",
              "            style=\"display:none;\">\n",
              "\n",
              "  <svg xmlns=\"http://www.w3.org/2000/svg\" height=\"24px\"viewBox=\"0 0 24 24\"\n",
              "       width=\"24px\">\n",
              "    <path d=\"M7,19H8.4L18.45,9,17,7.55,7,17.6ZM5,21V16.75L18.45,3.32a2,2,0,0,1,2.83,0l1.4,1.43a1.91,1.91,0,0,1,.58,1.4,1.91,1.91,0,0,1-.58,1.4L9.25,21ZM18.45,9,17,7.55Zm-12,3A5.31,5.31,0,0,0,4.9,8.1,5.31,5.31,0,0,0,1,6.5,5.31,5.31,0,0,0,4.9,4.9,5.31,5.31,0,0,0,6.5,1,5.31,5.31,0,0,0,8.1,4.9,5.31,5.31,0,0,0,12,6.5,5.46,5.46,0,0,0,6.5,12Z\"/>\n",
              "  </svg>\n",
              "    </button>\n",
              "    <script>\n",
              "      (() => {\n",
              "      const buttonEl =\n",
              "        document.querySelector('#id_186c4ecb-fbc8-4101-b353-6c57aa6e7200 button.colab-df-generate');\n",
              "      buttonEl.style.display =\n",
              "        google.colab.kernel.accessAllowed ? 'block' : 'none';\n",
              "\n",
              "      buttonEl.onclick = () => {\n",
              "        google.colab.notebook.generateWithVariable('ci_lengths_df');\n",
              "      }\n",
              "      })();\n",
              "    </script>\n",
              "  </div>\n",
              "\n",
              "    </div>\n",
              "  </div>\n"
            ],
            "application/vnd.google.colaboratory.intrinsic+json": {
              "type": "dataframe",
              "variable_name": "ci_lengths_df",
              "summary": "{\n  \"name\": \"ci_lengths_df\",\n  \"rows\": 4,\n  \"fields\": [\n    {\n      \"column\": \"coefficient\",\n      \"properties\": {\n        \"dtype\": \"string\",\n        \"num_unique_values\": 4,\n        \"samples\": [\n          \"lead_time (beta_1)\",\n          \"arrival_date_year (beta_3)\",\n          \"Bias (beta_0)\"\n        ],\n        \"semantic_type\": \"\",\n        \"description\": \"\"\n      }\n    },\n    {\n      \"column\": \"normal_matrix\",\n      \"properties\": {\n        \"dtype\": \"number\",\n        \"std\": 15.492207579511279,\n        \"min\": 0.1331,\n        \"max\": 35.7353,\n        \"num_unique_values\": 4,\n        \"samples\": [\n          0.1331,\n          19.9606,\n          35.7353\n        ],\n        \"semantic_type\": \"\",\n        \"description\": \"\"\n      }\n    },\n    {\n      \"column\": \"normal_bootstrap\",\n      \"properties\": {\n        \"dtype\": \"number\",\n        \"std\": 15.89591730568471,\n        \"min\": 0.1183,\n        \"max\": 36.5495,\n        \"num_unique_values\": 4,\n        \"samples\": [\n          0.1183,\n          19.3858,\n          29.8611\n        ],\n        \"semantic_type\": \"\",\n        \"description\": \"\"\n      }\n    },\n    {\n      \"column\": \"pivot_bootstrap\",\n      \"properties\": {\n        \"dtype\": \"number\",\n        \"std\": 15.699691384121747,\n        \"min\": 0.117,\n        \"max\": 36.466,\n        \"num_unique_values\": 4,\n        \"samples\": [\n          0.117,\n          19.3364,\n          28.8436\n        ],\n        \"semantic_type\": \"\",\n        \"description\": \"\"\n      }\n    },\n    {\n      \"column\": \"quantile_bootstrap\",\n      \"properties\": {\n        \"dtype\": \"number\",\n        \"std\": 15.699691384121747,\n        \"min\": 0.117,\n        \"max\": 36.466,\n        \"num_unique_values\": 4,\n        \"samples\": [\n          0.117,\n          19.3364,\n          28.8436\n        ],\n        \"semantic_type\": \"\",\n        \"description\": \"\"\n      }\n    }\n  ]\n}"
            }
          },
          "metadata": {},
          "execution_count": 10
        }
      ]
    },
    {
      "cell_type": "code",
      "source": [
        "#COEFFICIENTS FOR THE WHOLE DATA:\n",
        "import pandas as pd\n",
        "import numpy as np\n",
        "from sklearn.model_selection import train_test_split\n",
        "from sklearn.linear_model import LinearRegression\n",
        "from sklearn.metrics import mean_squared_error, r2_score\n",
        "from sklearn.preprocessing import LabelEncoder\n",
        "\n",
        "# Load and sample the dataset\n",
        "hotel_data = pd.read_csv('hotel_bookings.csv').sample(n=5000, random_state=42)\n",
        "\n",
        "# Encode categorical variables\n",
        "hotel_encoder = LabelEncoder()\n",
        "hotel_data['hotel_encoded'] = hotel_encoder.fit_transform(hotel_data['hotel'])\n",
        "\n",
        "year_encoder = LabelEncoder()\n",
        "hotel_data['arrival_date_year_encoded'] = year_encoder.fit_transform(hotel_data['arrival_date_year'])\n",
        "\n",
        "# Prepare the feature matrix (X) and target variable (Y)\n",
        "X = pd.concat([\n",
        "    hotel_data['lead_time'],\n",
        "    hotel_data['hotel_encoded'],\n",
        "    hotel_data['arrival_date_year_encoded']\n",
        "], axis=1)\n",
        "\n",
        "Y = hotel_data['adr']\n",
        "\n",
        "# Split the dataset into training and testing sets\n",
        "X_train, X_test, Y_train, Y_test = train_test_split(X, Y, test_size=0.2, random_state=42)\n",
        "\n",
        "# Train the linear regression model\n",
        "model = LinearRegression()\n",
        "model.fit(X_train, Y_train)\n",
        "\n",
        "# Evaluate the model\n",
        "Y_pred = model.predict(X_test)\n",
        "mse = mean_squared_error(Y_test, Y_pred)\n",
        "r2 = r2_score(Y_test, Y_pred)\n",
        "\n",
        "# Output model performance\n",
        "print(\"\\nModel Performance:\")\n",
        "print(f\"Mean Squared Error: {mse:.2f}\")\n",
        "print(f\"R-squared: {r2:.2f}\")\n",
        "\n",
        "# Output the coefficients\n",
        "coefficients = pd.DataFrame(model.coef_, index=X.columns, columns=['Coefficient'])\n",
        "print(\"\\nModel Coefficients:\")\n",
        "print(coefficients)\n",
        "print(f\"\\nIntercept: {model.intercept_:.2f}\")\n"
      ],
      "metadata": {
        "colab": {
          "base_uri": "https://localhost:8080/"
        },
        "id": "970y3xB0m2Fi",
        "outputId": "e79941f1-c871-4c2e-a6d9-e164cf9d3861"
      },
      "execution_count": null,
      "outputs": [
        {
          "output_type": "stream",
          "name": "stdout",
          "text": [
            "\n",
            "Model Performance:\n",
            "Mean Squared Error: 2258.22\n",
            "R-squared: 0.06\n",
            "\n",
            "Model Coefficients:\n",
            "                           Coefficient\n",
            "lead_time                    -0.032644\n",
            "hotel_encoded               -11.561505\n",
            "arrival_date_year_encoded    13.476457\n",
            "\n",
            "Intercept: 92.59\n"
          ]
        }
      ]
    },
    {
      "cell_type": "markdown",
      "source": [
        "COMPARE THE LENGTH OF EACH CI FOR EACH METHOD:\n",
        "PIVOT METHOD AND QUANTILE METHOD HAVE THE SAME LENGTH FOR ALL COEFFICIENTS WHICH MAKES SENSE SINCE WHEN CALCULATING THE LENGTH OF EACH INTERVAL MATHEMATICALLY THEY BOTH ARE $\\hat{\\beta}^*_{1-\\frac{\\alpha}{2}} - \\hat{\\beta}^*_{\\frac{\\alpha}{2}}$\n",
        "\n",
        "MOREOVER, FOR ALL THE METHODS THE ESTIMATORS OF BETA FOR THE WHOLE SET ARE INSIDE OF THE INTERVAL."
      ],
      "metadata": {
        "id": "fEURIX1Vnmdj"
      }
    },
    {
      "cell_type": "markdown",
      "source": [
        "CI for each variable on all the data (5000 tuples)"
      ],
      "metadata": {
        "id": "2IMNBWYX0TCK"
      }
    },
    {
      "cell_type": "code",
      "source": [
        "cov_matrix = C_orig\n",
        "sigma_squared = np.var(residuals)\n",
        "se_beta = []\n",
        "for j in range(cov_matrix.shape[0]):\n",
        "    C_ii = cov_matrix[j, j]\n",
        "    se_beta_j = np.sqrt(sigma_squared * C_ii)\n",
        "    se_beta.append(se_beta_j)\n",
        "\n",
        "n = len(X_train)\n",
        "p = x.shape[1]\n",
        "df = n - p\n",
        "\n",
        "t_value = stats.t.ppf(0.975, df)\n",
        "coefficients = pd.DataFrame(model.coef_, index=X.columns, columns=['Coefficient'])\n",
        "intercept_row = pd.DataFrame({'Coefficient': [model.intercept_]}, index=['Intercept'])\n",
        "coefficients = pd.concat([intercept_row, coefficients])\n",
        "\n",
        "coefficients['SE'] = se_beta\n",
        "\n",
        "ci_lower = coefficients['Coefficient'] - t_value * coefficients['SE']\n",
        "ci_upper = coefficients['Coefficient'] + t_value * coefficients['SE']\n",
        "print(\"\\nConfidence Intervals for Each Coefficient:\")\n",
        "for param, lower, upper in zip(coefficients.index, ci_lower, ci_upper):\n",
        "    print(f\"{param}: ({lower:.2f}, {upper:.2f})\")"
      ],
      "metadata": {
        "colab": {
          "base_uri": "https://localhost:8080/"
        },
        "id": "77aCeLVdz9f3",
        "outputId": "1ba1eb06-e715-41dd-9ce9-3b24c8c0357e"
      },
      "execution_count": null,
      "outputs": [
        {
          "output_type": "stream",
          "name": "stdout",
          "text": [
            "\n",
            "Confidence Intervals for Each Coefficient:\n",
            "Intercept: (89.62, 95.56)\n",
            "lead_time: (-0.04, -0.02)\n",
            "hotel_encoded: (-14.30, -8.82)\n",
            "arrival_date_year_encoded: (11.64, 15.31)\n"
          ]
        }
      ]
    },
    {
      "cell_type": "markdown",
      "source": [
        "Comparison: #ToDo"
      ],
      "metadata": {
        "id": "v9t_oiUp0bcB"
      }
    },
    {
      "cell_type": "markdown",
      "source": [
        "## Section 3- 100 data points not in the sample_200"
      ],
      "metadata": {
        "id": "L46jnf330eNO"
      }
    },
    {
      "cell_type": "code",
      "source": [
        "remaining_data_indices = hotel_data.index.difference(hotel_sample_200.index)\n",
        "sampled_indices = np.random.choice(remaining_data_indices, size=1000, replace=False)\n",
        "hotel_sample_100 = hotel_data.loc[sampled_indices]\n",
        "hotel_sample_100 = hotel_sample_100[['adr', 'lead_time', 'hotel_encoded', 'arrival_date_year_encoded']]"
      ],
      "metadata": {
        "id": "JII9H96I0nQn"
      },
      "execution_count": null,
      "outputs": []
    },
    {
      "cell_type": "code",
      "source": [
        "X_new = hotel_sample_100[['lead_time', 'hotel_encoded', 'arrival_date_year_encoded']]\n",
        "y_new = hotel_sample_100['adr'].values\n",
        "\n",
        "predictions = model.predict(X_new)\n",
        "residuals = model.predict(hotel_sample_100[['lead_time', 'hotel_encoded', 'arrival_date_year_encoded']]) - hotel_sample_100['adr'].values\n",
        "n_bootstrap = B\n",
        "n_points = len(X_new)\n",
        "bootstrap_predictions = np.zeros((n_points, n_bootstrap))\n",
        "\n",
        "for i in range(n_bootstrap):\n",
        "    bootstrap_errors = np.random.choice(residuals, size=n_points, replace=True)\n",
        "    bootstrap_predictions[:, i] = predictions + bootstrap_errors\n",
        "\n",
        "lower_bounds = np.percentile(bootstrap_predictions, 2.5, axis=1)\n",
        "upper_bounds = np.percentile(bootstrap_predictions, 97.5, axis=1)\n",
        "\n",
        "in_interval = (y_new >= lower_bounds) & (y_new <= upper_bounds)\n",
        "coverage_pct = np.mean(in_interval) * 100\n",
        "\n",
        "print(f\"Percentage of actual values falling within 95% prediction intervals: {coverage_pct:.1f}%\")\n",
        "print(f\"Average interval width: {np.mean(upper_bounds - lower_bounds):.2f}\")"
      ],
      "metadata": {
        "colab": {
          "base_uri": "https://localhost:8080/"
        },
        "id": "TqYpPxzB01tY",
        "outputId": "5b253b0e-8d6d-4dc7-c473-06893fff6736"
      },
      "execution_count": null,
      "outputs": [
        {
          "output_type": "stream",
          "name": "stdout",
          "text": [
            "Percentage of actual values falling within 95% prediction intervals: 90.9%\n",
            "Average interval width: 172.28\n"
          ]
        }
      ]
    },
    {
      "cell_type": "markdown",
      "source": [
        "PERCENTAGE OF CONFIDENCE INTERVALS THAT CONTAIN THE REAL VALUE OF Ynew IS 91.6% WHICH IS INDEED VERY CLOSE TO 95%"
      ],
      "metadata": {
        "id": "9_M1ja_8pJjD"
      }
    },
    {
      "cell_type": "markdown",
      "source": [
        "# Section 3.d\n"
      ],
      "metadata": {
        "id": "oIjx3Dju2gvO"
      }
    },
    {
      "cell_type": "markdown",
      "source": [
        "We could do something similar to what we learned in TA 5, Question 1. In this case, we also need to account for the variance of the prediction itself. We can randomly generate a bootstrap sample similarly to what we did in the previous step.\n",
        "\n",
        "We then choose a method that uses the normal distribution and the variance correction of the bootstrap. The variance of the error (epsilon) will not be calculated. Recall that in Question 1 of Exercise 1, the training variance was not calculated under noise variance.\n",
        "\n",
        "The final prediction will be:\n",
        "\n",
        "$$\n",
        "\\sigma^2_{\\epsilon} X_{\\text{new}} C X_{\\text{new}}^T + \\sigma^2_{\\epsilon}\n",
        "$$\n",
        "\n",
        "\n",
        "\n",
        "\n"
      ],
      "metadata": {
        "id": "ybIfnGiIj-tc"
      }
    },
    {
      "cell_type": "markdown",
      "source": [
        "# Part B - Tests\n",
        "\n",
        "Q1- Is the distribution of adr values bigger in resort hotels than adr values in city hotels?"
      ],
      "metadata": {
        "id": "6OjnekvU2vR1"
      }
    },
    {
      "cell_type": "code",
      "source": [
        "hotel_sample_200 = hotel_data.sample(n=200, random_state=50)\n",
        "hotel_resort_200 = hotel_sample_200[hotel_sample_200['hotel'] == 'Resort Hotel']\n",
        "hotel_city_200 = hotel_sample_200[hotel_sample_200['hotel'] == 'City Hotel']"
      ],
      "metadata": {
        "id": "w_QfMb1ZDVhW"
      },
      "execution_count": null,
      "outputs": []
    },
    {
      "cell_type": "code",
      "source": [
        "plt.figure(figsize=(12, 6))\n",
        "\n",
        "plt.hist(hotel_resort_200['adr'], bins=30, alpha=0.5, label='Resort Hotel', density=True)\n",
        "plt.hist(hotel_city_200['adr'], bins=30, alpha=0.5, label='City Hotel', density=True)\n",
        "\n",
        "x_resort = np.linspace(hotel_resort_200['adr'].min(), hotel_resort_200['adr'].max(), 100)\n",
        "x_city = np.linspace(hotel_city_200['adr'].min(), hotel_city_200['adr'].max(), 100)\n",
        "\n",
        "plt.plot(x_resort, stats.norm.pdf(x_resort, mu1, hotel_resort_200['adr'].std()),\n",
        "         color='blue', alpha=0.7)\n",
        "plt.plot(x_city, stats.norm.pdf(x_city, mu2, hotel_city_200['adr'].std()),\n",
        "         color='orange', alpha=0.7)\n",
        "\n",
        "plt.title('ADR Distribution: Resort vs City Hotels')\n",
        "plt.xlabel('ADR')\n",
        "plt.ylabel('Density')\n",
        "plt.legend()\n",
        "plt.show()\n",
        "\n",
        "print(f\"Difference in means (δ = μ1 - μ2): {delta:.2f}\")\n",
        "\n",
        "print(\"\\nNormality Tests (Shapiro-Wilk):\")\n",
        "print(\"Resort Hotel:\", stats.shapiro(hotel_resort_200['adr']))\n",
        "print(\"City Hotel:\", stats.shapiro(hotel_city_200['adr']))\n",
        "\n",
        "print(\"\\nSkewness:\")\n",
        "print(\"Resort Hotel:\", stats.skew(hotel_resort_200['adr']))\n",
        "print(\"City Hotel:\", stats.skew(hotel_city_200['adr']))\n",
        "\n",
        "print(\"\\nKurtosis:\")\n",
        "print(\"Resort Hotel:\", stats.kurtosis(hotel_resort_200['adr']))\n",
        "print(\"City Hotel:\", stats.kurtosis(hotel_city_200['adr']))"
      ],
      "metadata": {
        "colab": {
          "base_uri": "https://localhost:8080/",
          "height": 614
        },
        "id": "WyjM0tQP6QU0",
        "outputId": "ec89fb5e-4a5c-4d72-d427-4e08f2787e50"
      },
      "execution_count": null,
      "outputs": [
        {
          "output_type": "display_data",
          "data": {
            "text/plain": [
              "<Figure size 1200x600 with 1 Axes>"
            ],
            "image/png": "[encoded data removed]"
          },
          "metadata": {}
        },
        {
          "output_type": "stream",
          "name": "stdout",
          "text": [
            "Difference in means (δ = μ1 - μ2): -12.05\n",
            "\n",
            "Normality Tests (Shapiro-Wilk):\n",
            "Resort Hotel: ShapiroResult(statistic=0.7636299244410121, pvalue=5.99696612355722e-09)\n",
            "City Hotel: ShapiroResult(statistic=0.9578616374695416, pvalue=0.0003815721556226547)\n",
            "\n",
            "Skewness:\n",
            "Resort Hotel: 1.8716368272579083\n",
            "City Hotel: 0.6254859635752107\n",
            "\n",
            "Kurtosis:\n",
            "Resort Hotel: 3.052428152813567\n",
            "City Hotel: 0.5910755542838229\n"
          ]
        }
      ]
    },
    {
      "cell_type": "code",
      "source": [
        "import numpy as np\n",
        "import pandas as pd\n",
        "import matplotlib.pyplot as plt\n",
        "import scipy.stats as stats\n",
        "\n",
        "# Extract ADR values\n",
        "resort_adr = hotel_resort_200['adr']\n",
        "city_adr = hotel_city_200['adr']\n",
        "\n",
        "# Q-Q plot for Resort Hotels\n",
        "plt.figure(figsize=(8, 6))\n",
        "stats.probplot(resort_adr, dist=\"norm\", plot=plt)\n",
        "plt.title(\"Q-Q Plot for ADR (Resort Hotels)\")\n",
        "plt.show()\n",
        "\n",
        "# Q-Q plot for City Hotels\n",
        "plt.figure(figsize=(8, 6))\n",
        "stats.probplot(city_adr, dist=\"norm\", plot=plt)\n",
        "plt.title(\"Q-Q Plot for ADR (City Hotels)\")\n",
        "plt.show()\n"
      ],
      "metadata": {
        "colab": {
          "base_uri": "https://localhost:8080/",
          "height": 1000
        },
        "id": "0SkIC3Dgx1-0",
        "outputId": "884d254f-6894-4577-ce0f-2cf3c8a2b420"
      },
      "execution_count": null,
      "outputs": [
        {
          "output_type": "display_data",
          "data": {
            "text/plain": [
              "<Figure size 800x600 with 1 Axes>"
            ],
            "image/png": "[encoded data removed]"
          },
          "metadata": {}
        },
        {
          "output_type": "display_data",
          "data": {
            "text/plain": [
              "<Figure size 800x600 with 1 Axes>"
            ],
            "image/png": "[encoded data removed]"
          },
          "metadata": {}
        }
      ]
    },
    {
      "cell_type": "markdown",
      "source": [
        "3.a"
      ],
      "metadata": {
        "id": "0s4S4ynY63vh"
      }
    },
    {
      "cell_type": "code",
      "source": [
        "\n",
        "mu1 = hotel_resort_200['adr'].mean()\n",
        "mu2 = hotel_city_200['adr'].mean()\n",
        "delta = mu1 - mu2\n",
        "\n",
        "print(f\"mu1 estimator: {round(mu1,4)}\")\n",
        "print(f\"mu2 estimator: {round(mu2,4)}\")\n",
        "print(f\"delta estimator: {round(delta,4)}\")"
      ],
      "metadata": {
        "colab": {
          "base_uri": "https://localhost:8080/"
        },
        "id": "eHL0ldhDwVAn",
        "outputId": "117d5df0-b123-4e3c-c550-d75f41059087"
      },
      "execution_count": null,
      "outputs": [
        {
          "output_type": "stream",
          "name": "stdout",
          "text": [
            "mu1 estimator: 91.8091\n",
            "mu2 estimator: 103.8627\n",
            "delta estimator: -12.0536\n"
          ]
        }
      ]
    },
    {
      "cell_type": "markdown",
      "source": [
        "According to the previous plots, we can't assume normal distribution for adr with respect to city nor resort hotels. Therefore, mu1, mu2 and by consequence also delta are not MLEs."
      ],
      "metadata": {
        "id": "rilSDPr0wqkM"
      }
    },
    {
      "cell_type": "markdown",
      "source": [
        "3b."
      ],
      "metadata": {
        "id": "OOBAClQJya__"
      }
    },
    {
      "cell_type": "code",
      "source": [
        "n1 = len(hotel_resort_200)\n",
        "n2 = len(hotel_city_200)\n",
        "\n",
        "s1_squared = hotel_resort_200['adr'].var(ddof=1)\n",
        "s2_squared = hotel_city_200['adr'].var(ddof=1)\n",
        "\n",
        "se_delta = np.sqrt(s1_squared / n1 + s2_squared / n2)\n",
        "\n",
        "confidence_level = 0.95\n",
        "z = norm.ppf(1 - (1 - confidence_level) / 2)\n",
        "\n",
        "lower_bound = delta - z * se_delta\n",
        "upper_bound = delta + z * se_delta\n",
        "\n",
        "print(f\"95% Confidence Interval for delta: ({lower_bound:.2f}, {upper_bound:.2f})\")\n"
      ],
      "metadata": {
        "colab": {
          "base_uri": "https://localhost:8080/"
        },
        "id": "Du8sO9PR7m0u",
        "outputId": "b8a0b62b-dabb-4e53-c7ea-b29d2359539b"
      },
      "execution_count": null,
      "outputs": [
        {
          "output_type": "stream",
          "name": "stdout",
          "text": [
            "95% Confidence Interval for delta: (-29.69, 5.58)\n"
          ]
        }
      ]
    },
    {
      "cell_type": "markdown",
      "source": [
        "3c."
      ],
      "metadata": {
        "id": "3PHe-9c9yfug"
      }
    },
    {
      "cell_type": "code",
      "source": [
        "hotel_resort_all = hotel_data[hotel_data['hotel'] == 'Resort Hotel']\n",
        "hotel_city_all = hotel_data[hotel_data['hotel'] == 'City Hotel']\n",
        "mu1 = hotel_resort_all['adr'].mean()\n",
        "mu2 = hotel_city_all['adr'].mean()\n",
        "delta_all = mu1 - mu2\n",
        "\n",
        "n1 = len(hotel_resort_all)\n",
        "n2 = len(hotel_city_all)\n",
        "\n",
        "s1_squared = hotel_resort_all['adr'].var(ddof=1)\n",
        "s2_squared = hotel_city_all['adr'].var(ddof=1)\n",
        "\n",
        "se_delta = np.sqrt(s1_squared / n1 + s2_squared / n2)\n",
        "\n",
        "confidence_level = 0.95\n",
        "z = norm.ppf(1 - (1 - confidence_level) / 2)\n",
        "\n",
        "lower_bound = delta_all - z * se_delta\n",
        "upper_bound = delta_all + z * se_delta\n",
        "\n",
        "print(f\"95% Confidence Interval for delta: ({lower_bound:.2f}, {upper_bound:.2f})\")\n"
      ],
      "metadata": {
        "colab": {
          "base_uri": "https://localhost:8080/"
        },
        "id": "ys_j1WaP8CPG",
        "outputId": "f5fab69f-6703-404d-a714-531d2f6eed20"
      },
      "execution_count": null,
      "outputs": [
        {
          "output_type": "stream",
          "name": "stdout",
          "text": [
            "95% Confidence Interval for delta: (-13.61, -7.33)\n"
          ]
        }
      ]
    },
    {
      "cell_type": "markdown",
      "source": [
        "We can see that the CI for the delta estimator on all the data is a subset of the CI interval for the sample of 200 tuples."
      ],
      "metadata": {
        "id": "ZZj-j1v38q7x"
      }
    },
    {
      "cell_type": "markdown",
      "source": [
        "### Section 3.d - wald and permutation tets"
      ],
      "metadata": {
        "id": "AjvqvfOV83p5"
      }
    },
    {
      "cell_type": "markdown",
      "source": [
        "Wald Test: (one sided, fails since as we showed earlier not all the data in this case distributes normally)"
      ],
      "metadata": {
        "id": "eOX03CYc9o_c"
      }
    },
    {
      "cell_type": "code",
      "source": [
        "resort_adr = hotel_resort_200['adr'].values\n",
        "city_adr = hotel_city_200['adr'].values\n",
        "\n",
        "obs_delta = np.mean(resort_adr) - np.mean(city_adr)\n",
        "se_delta = np.sqrt(np.var(resort_adr, ddof=1) / len(resort_adr) +\n",
        "                   np.var(city_adr, ddof=1) / len(city_adr))\n",
        "z = obs_delta / se_delta\n",
        "p_value = 1 - norm.cdf(z)\n",
        "alpha = 0.05\n",
        "\n",
        "print(f\"Wald Test Statistic (z): {z:.2f}\")\n",
        "print(f\"One-Sided P-value: {p_value:.4f}\")\n",
        "\n",
        "if p_value < alpha:\n",
        "    print(\"Reject the null hypothesis.\")\n",
        "else:\n",
        "    print(\"Fail to reject the null hypothesis.\")\n"
      ],
      "metadata": {
        "colab": {
          "base_uri": "https://localhost:8080/"
        },
        "id": "ABEHMF8X9SjB",
        "outputId": "aa3555bd-9081-4f7e-9aed-86fde1f29907"
      },
      "execution_count": null,
      "outputs": [
        {
          "output_type": "stream",
          "name": "stdout",
          "text": [
            "Wald Test Statistic (z): -1.34\n",
            "One-Sided P-value: 0.9098\n",
            "Fail to reject the null hypothesis.\n"
          ]
        }
      ]
    },
    {
      "cell_type": "markdown",
      "source": [
        "Permutation Test:"
      ],
      "metadata": {
        "id": "-mMr-Byn9rev"
      }
    },
    {
      "cell_type": "code",
      "source": [
        "resort_adr = hotel_resort_200['adr'].values\n",
        "city_adr = hotel_city_200['adr'].values\n",
        "\n",
        "obs_delta = np.mean(resort_adr) - np.mean(city_adr)\n",
        "\n",
        "combined = np.concatenate([resort_adr, city_adr])\n",
        "\n",
        "# Permutation test parameters\n",
        "num_permutations = 10000\n",
        "perm_deltas = []\n",
        "\n",
        "for _ in range(num_permutations):\n",
        "    np.random.shuffle(combined)\n",
        "\n",
        "    perm_resort = combined[:len(resort_adr)]\n",
        "    perm_city = combined[len(resort_adr):]\n",
        "    perm_delta = np.mean(perm_resort) - np.mean(perm_city)\n",
        "    perm_deltas.append(perm_delta)\n",
        "\n",
        "perm_deltas = np.array(perm_deltas)\n",
        "p_value = np.mean(np.abs(perm_deltas) >= np.abs(obs_delta))\n",
        "\n",
        "print(f\"Observed Difference in Means: {obs_delta:.2f}\")\n",
        "print(f\"P-value from Permutation Test: {p_value:.4f}\")\n",
        "\n",
        "alpha = 0.05\n",
        "if p_value < alpha:\n",
        "    print(\"Reject the null hypothesis: The distribution of 'adr' values is significantly different between the two hotel types.\")\n",
        "else:\n",
        "    print(\"Fail to reject the null hypothesis: There is no significant difference in the distribution of 'adr' values between the two hotel types.\")\n"
      ],
      "metadata": {
        "colab": {
          "base_uri": "https://localhost:8080/"
        },
        "id": "Kkaj20629um-",
        "outputId": "ad78564e-a8ff-4c60-acfd-51e0e36169bf"
      },
      "execution_count": null,
      "outputs": [
        {
          "output_type": "stream",
          "name": "stdout",
          "text": [
            "Observed Difference in Means: -12.05\n",
            "P-value from Permutation Test: 0.1061\n",
            "Fail to reject the null hypothesis: There is no significant difference in the distribution of 'adr' values between the two hotel types.\n"
          ]
        }
      ]
    },
    {
      "cell_type": "markdown",
      "source": [
        "# Section 4 - Percentile 0.5"
      ],
      "metadata": {
        "id": "sqQcHTY9_ADc"
      }
    },
    {
      "cell_type": "code",
      "source": [
        "hotel_sample_200 = hotel_data.sample(n=200, random_state=50)\n",
        "hotel_resort_200 = hotel_sample_200[hotel_sample_200['hotel'] == 'Resort Hotel']\n",
        "hotel_city_200 = hotel_sample_200[hotel_sample_200['hotel'] == 'City Hotel']\n",
        "mu1 = hotel_resort_200['adr'].median()\n",
        "mu2 = hotel_city_200['adr'].median()\n",
        "delta_med = mu1 - mu2\n",
        "\n",
        "print(\"mu1:\", mu1)\n",
        "print(\"mu2:\", mu2)\n",
        "print(\"delta:\", delta_med)"
      ],
      "metadata": {
        "id": "rvlgZ3I5_LKQ",
        "colab": {
          "base_uri": "https://localhost:8080/"
        },
        "outputId": "e91b90df-3d70-4bdf-9330-eb2a60b85679"
      },
      "execution_count": null,
      "outputs": [
        {
          "output_type": "stream",
          "name": "stdout",
          "text": [
            "mu1: 68.875\n",
            "mu2: 99.725\n",
            "delta: -30.849999999999994\n"
          ]
        }
      ]
    },
    {
      "cell_type": "markdown",
      "source": [
        "Is the estimator you received a MLE?\n",
        "I think NOT BUT WE SHOULD CHECK.\n"
      ],
      "metadata": {
        "id": "dszrbyz0sGwF"
      }
    },
    {
      "cell_type": "markdown",
      "source": [
        "4.B) C.I FOR DELTA"
      ],
      "metadata": {
        "id": "m1P005je_7Za"
      }
    },
    {
      "cell_type": "code",
      "source": [
        "print(f\"The CI is: {CI}\")\n",
        "print(f\"delta estimator is in CI? {bool(delta_med <= CI[1] and delta_med >= CI[0])}\")\n"
      ],
      "metadata": {
        "colab": {
          "base_uri": "https://localhost:8080/"
        },
        "id": "Mc482yDp_6TA",
        "outputId": "03c7e9b4-41ec-4309-be31-f6f2ca4516a2"
      },
      "execution_count": null,
      "outputs": [
        {
          "output_type": "stream",
          "name": "stdout",
          "text": [
            "The CI is: [7.254378898839514, 26.640211395352345]\n",
            "delta estimator is in CI? False\n"
          ]
        }
      ]
    },
    {
      "cell_type": "markdown",
      "source": [
        "4.C) CI FOR ALL THE DATA"
      ],
      "metadata": {
        "id": "4qL6RqM_ETMc"
      }
    },
    {
      "cell_type": "code",
      "source": [
        "hotel_resort_all = hotel_data[hotel_data['hotel'] == 'Resort Hotel']\n",
        "hotel_city_all = hotel_data[hotel_data['hotel'] == 'City Hotel']\n",
        "mu1 = hotel_resort_all['adr'].median()\n",
        "mu2 = hotel_city_all['adr'].median()\n",
        "delta_med_all = mu1 - mu2\n",
        "\n",
        "print(\"mu1:\", mu1)\n",
        "print(\"mu2:\", mu2)\n",
        "print(\"delta:\", delta_med_all)\n"
      ],
      "metadata": {
        "colab": {
          "base_uri": "https://localhost:8080/"
        },
        "id": "WCz0eDajEWaS",
        "outputId": "490541a4-f1d3-41bb-994d-98fca5272a57"
      },
      "execution_count": null,
      "outputs": [
        {
          "output_type": "stream",
          "name": "stdout",
          "text": [
            "mu1: 74.8\n",
            "mu2: 99.0\n",
            "delta: -24.200000000000003\n"
          ]
        }
      ]
    },
    {
      "cell_type": "markdown",
      "source": [
        "THIS DELTA IS ALSO NOT IN THE CI OF THE PREVIOUS SECTION."
      ],
      "metadata": {
        "id": "0ae-frvhE3Xv"
      }
    },
    {
      "cell_type": "markdown",
      "source": [
        "4)D)"
      ],
      "metadata": {
        "id": "cqb2i77mFgsO"
      }
    },
    {
      "cell_type": "code",
      "source": [
        "import random\n",
        "n=200\n",
        "# Permutations test\n",
        "num_city = hotel_city_200.count()[0]\n",
        "counter = 0\n",
        "\n",
        "for b in range(B):\n",
        "  group_1_indices = random.sample(range(n), num_city)\n",
        "\n",
        "  group_2_indices = [i for i in range(n) if i not in group_1_indices]\n",
        "\n",
        "  group1_adr = hotel_sample_200.iloc[group_1_indices, :]['adr'].values\n",
        "  group2_adr = hotel_sample_200.iloc[group_2_indices, :]['adr'].values\n",
        "\n",
        "  mu_group1 = np.median(group1_adr)\n",
        "  mu_group2 = np.median(group2_adr)\n",
        "  delta_b = mu_group1 - mu_group2\n",
        "\n",
        "  if delta <= delta_b:\n",
        "    counter += 1\n",
        "\n",
        "p_value = counter/B\n",
        "print(f\"Permutation test:\")\n",
        "print(f\"Reject H0? {p_value < 0.05}\")\n"
      ],
      "metadata": {
        "colab": {
          "base_uri": "https://localhost:8080/"
        },
        "id": "UgBw9EqCFh3J",
        "outputId": "9ffa8c4a-0166-4c00-c103-ed8b519cabfa"
      },
      "execution_count": null,
      "outputs": [
        {
          "output_type": "stream",
          "name": "stderr",
          "text": [
            "<ipython-input-37-adcc16b2b82f>:4: FutureWarning: Series.__getitem__ treating keys as positions is deprecated. In a future version, integer keys will always be treated as labels (consistent with DataFrame behavior). To access a value by position, use `ser.iloc[pos]`\n",
            "  num_city = hotel_city_200.count()[0]\n"
          ]
        },
        {
          "output_type": "stream",
          "name": "stdout",
          "text": [
            "Permutation test:\n",
            "Reject H0? False\n"
          ]
        }
      ]
    },
    {
      "cell_type": "markdown",
      "source": [
        "4)E)"
      ],
      "metadata": {
        "id": "eTepclGyHevT"
      }
    },
    {
      "cell_type": "markdown",
      "source": [
        "**WALD TEST:**\n",
        "As we saw in previous sections, the estimator of delta is not an MLE so it's not asimptotically normal, thus, we can't use the wald test."
      ],
      "metadata": {
        "id": "nH-W4VV-Hhvl"
      }
    },
    {
      "cell_type": "markdown",
      "source": [
        "**T - TEST**:\n",
        "LET'S CHECK IF THE ASSUMPTIONS OF THE TEST ARE TRUE:\n",
        "- EQUAL AND UNKOWN VARIANCES:\n",
        "  FROM WHAT WE SAW IN QUESTION 3)D) THE VARIANCES OF BOT CATEGORIES (CITY AND RESORT) ARE EQUAL.\n",
        "\n",
        "- INDEPENDENT SAMPLES:\n",
        "  THE VALUES OF ADR FOR CITY HOTELS IS INDEPENDENT OF THE VALUES OF ADR FOR RESORT HOTELS, THEREFORE THEY ARE INDEPENDENT SAMPLES.\n",
        "\n",
        "- THE OBSERVATIONS HAVE A NORMAL DISTRIBUTION:\n",
        "  WE SAW THAT THIS IS NOT TRUE IN THE PREVIOUS SECTIONS.\n",
        "\n",
        "SINCE THE LAST ASSUMPTION IS NOT TRUE, WE CANNOT USE T-TEST.\n",
        "\n"
      ],
      "metadata": {
        "id": "KrMSQM2qINb2"
      }
    },
    {
      "cell_type": "markdown",
      "source": [
        "# Section 5"
      ],
      "metadata": {
        "id": "lsmOMsSG_LpJ"
      }
    },
    {
      "cell_type": "code",
      "source": [
        "from scipy.stats import shapiro, norm\n",
        "\n",
        "# Permutations test on Group 1 using resampling\n",
        "num_city = hotel_city_200.count()[0]\n",
        "num_resort = hotel_resort_200.count()[0]\n",
        "counter = 0\n",
        "hotel_sample_200['adr_rank'] = hotel_sample_200['adr'].rank()\n",
        "S1_original = np.sum(hotel_sample_200[hotel_sample_200['hotel'] == \"City Hotel\"]['adr_rank'].values)\n",
        "\n",
        "for b in range(B):\n",
        "  group_1_indices = random.sample(range(n), num_city)\n",
        "  group_2_indices = [i for i in range(n) if i not in group_1_indices]\n",
        "  current_S1 = np.sum(hotel_sample_200.iloc[group_1_indices, :]['adr_rank'].values)\n",
        "  if current_S1 >= S1_original:\n",
        "    counter += 1\n",
        "\n",
        "p_value = counter/B\n",
        "print(f\"Reject H0 by resampling? {p_value <= 0.05}\")\n",
        "\n",
        "\n",
        "# Checking if we can use normal approximation\n",
        "# Normality Test (Shapiro-Wilk)\n",
        "stat_resort, p_resort = shapiro(resort_adr)\n",
        "stat_city, p_city = shapiro(city_adr)\n",
        "\n",
        "print(f\"Shapiro-Wilk Test p-value for Resort Hotel: {p_resort:.4f}\")\n",
        "print(f\"Shapiro-Wilk Test p-value for City Hotel: {p_city:.4f}\")\n",
        "\n",
        "normal_resort = p_resort > 0.05\n",
        "normal_city = p_city > 0.05\n",
        "\n",
        "if normal_resort and normal_city:\n",
        "  print(\"Both hotel types have normal distributions of 'adr' values, proceeding with asymptotic normality.\")\n",
        "  N = num_city + num_resort\n",
        "  n = num_city\n",
        "  m = num_resort\n",
        "  expected = n*(N+1)/2\n",
        "  var = m*n*(N+1)/12\n",
        "  statistic = (S1_original-expected)/(var**(1/2))\n",
        "  print(f\"Reject H0 by Normal approximation? {statistic >= stats.norm.ppf(0.95)}\")\n",
        "else:\n",
        "  print(\"We cannot use asymptotic normality\")\n",
        "\n"
      ],
      "metadata": {
        "colab": {
          "base_uri": "https://localhost:8080/"
        },
        "id": "oyH-LESQL4eO",
        "outputId": "e25bc5bb-5d13-44eb-bdb7-1295e05c219e"
      },
      "execution_count": null,
      "outputs": [
        {
          "output_type": "stream",
          "name": "stderr",
          "text": [
            "<ipython-input-44-38f53c5221e4>:4: FutureWarning: Series.__getitem__ treating keys as positions is deprecated. In a future version, integer keys will always be treated as labels (consistent with DataFrame behavior). To access a value by position, use `ser.iloc[pos]`\n",
            "  num_city = hotel_city_200.count()[0]\n",
            "<ipython-input-44-38f53c5221e4>:5: FutureWarning: Series.__getitem__ treating keys as positions is deprecated. In a future version, integer keys will always be treated as labels (consistent with DataFrame behavior). To access a value by position, use `ser.iloc[pos]`\n",
            "  num_resort = hotel_resort_200.count()[0]\n"
          ]
        },
        {
          "output_type": "stream",
          "name": "stdout",
          "text": [
            "Reject H0 by resampling? True\n",
            "Shapiro-Wilk Test p-value for Resort Hotel: 0.0000\n",
            "Shapiro-Wilk Test p-value for City Hotel: 0.0004\n",
            "We cannot use asymptotic normality\n"
          ]
        }
      ]
    },
    {
      "cell_type": "markdown",
      "source": [
        "In this permutation test we reject H0 but in the test with sampling we don't reject H0.\n",
        "The first test focuses on differences in medians and fails to reject the null hypothesis, indicating no significant difference in central tendency between the groups. The second test, using ranks, is more sensitive to overall distribution differences and detects a significant difference, leading to rejection of the null hypothesis. This highlights that different test statistics measure distinct aspects of the data, and the choice of test depends on what we aim to compare"
      ],
      "metadata": {
        "id": "yGrc4lCNN6-F"
      }
    },
    {
      "cell_type": "markdown",
      "source": [
        "## Part 6"
      ],
      "metadata": {
        "id": "pleE287oCY_G"
      }
    },
    {
      "cell_type": "code",
      "source": [
        "import statsmodels.api as sm\n",
        "from statsmodels.graphics.gofplots import qqplot\n",
        "\n",
        "fig, (ax1, ax2, ax3) = plt.subplots(1, 3,figsize=(20,4))\n",
        "\n",
        "hotel_city_200['adr'].hist(edgecolor = \"black\", grid = False, alpha = 0.5, label = \"city\", ax = ax1, bins=7)\n",
        "hotel_resort_200['adr'].hist(edgecolor = \"black\", grid = False, alpha = 0.5, label = \"resort\", ax = ax1, bins = 7)\n",
        "\n",
        "plt.title(\"adr histograms among resort and city\", fontweight = \"bold\", fontsize = 14)\n",
        "\n",
        "ax1.legend()\n",
        "\n",
        "hotel_city_200 = hotel_sample_200[hotel_sample_200['hotel'] == \"City Hotel\"]\n",
        "hotel_resort_200 = hotel_sample_200[hotel_sample_200['hotel'] == \"Resort Hotel\"]\n",
        "\n",
        "city_adr = hotel_city_200['adr'].values\n",
        "\n",
        "qqplot(city_adr,norm,fit=True,line=\"s\", ax=ax2)\n",
        "ax1.set_title(\"Normal QQ plot for city adrs\", fontsize = 15, fontweight = \"bold\")\n",
        "\n",
        "resort_adr = hotel_resort_200['adr'].values\n",
        "qqplot(resort_adr,norm,fit=True,line=\"s\", ax=ax3)\n",
        "\n",
        "ax2.set_title(\"Normal QQ plot for resort adrs\", fontsize = 15, fontweight = \"bold\")\n",
        "plt.show()"
      ],
      "metadata": {
        "id": "KJ7uw1K6rRj6",
        "colab": {
          "base_uri": "https://localhost:8080/",
          "height": 189
        },
        "outputId": "90a379d5-c5e4-4bc5-e5b7-1272745e3ac9"
      },
      "execution_count": null,
      "outputs": [
        {
          "output_type": "display_data",
          "data": {
            "text/plain": [
              "<Figure size 2000x400 with 3 Axes>"
            ],
            "image/png": "[encoded data removed]"
          },
          "metadata": {}
        }
      ]
    },
    {
      "cell_type": "markdown",
      "source": [
        "Despite some visual differences in the histograms of 'adr' for city and resort hotels, the statistical analyses present a mixed picture. While the tests comparing means (Question 3d) and medians (Question 4d) failed to reject the null hypothesis, suggesting no significant difference in central tendency, the permutation test in Question 5 did reject the null hypothesis. This indicates a statistically significant difference in the overall distributions of 'adr' between the two hotel types, going beyond just central tendency. Therefore, while we might assume similar average or median 'adr' values for city and resort hotels based on Questions 3 and 4, the results of Question 5 suggest a more nuanced understanding, highlighting potential differences in the shape or spread of the 'adr' distributions that should be further investigated."
      ],
      "metadata": {
        "id": "OkyYb2HZPTa_"
      }
    }
  ]
}